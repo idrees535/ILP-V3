{
 "cells": [
  {
   "cell_type": "code",
   "execution_count": null,
   "id": "ff0501bf",
   "metadata": {},
   "outputs": [],
   "source": [
    "# ========================== Imports \n",
    "\n",
    "import pandas as pd\n",
    "import numpy as np\n",
    "import GetPoolData\n",
    "import itertools\n",
    "import scipy\n",
    "from scipy import stats\n",
    "# Create config.py in this directory and enter your own Bitquery API Token\n",
    "from config import BITQUERY_API_TOKEN\n",
    "\n",
    "import ResetStrategy\n",
    "import ActiveStrategyFramework\n"
   ]
  },
  {
   "cell_type": "code",
   "execution_count": null,
   "id": "bbe0090c",
   "metadata": {},
   "outputs": [],
   "source": [
    "\n",
    "\n",
    "DOWNLOAD_DATA      = False\n",
    "address            = '0x8ad599c3a0ff1de082011efddc58f1908eb6e6d8'\n",
    "token_0_address    = '0xA0b86991c6218b36c1d19D4a2e9Eb0cE3606eB48'\n",
    "token_1_address    = '0xC02aaA39b223FE8D0A0e5C4F27eAD9083C756Cc2'\n",
    "flipside_queries   = ['https://api.flipsidecrypto.com/api/v2/queries/b8ad3087-803a-478b-9ed3-c4f3c096bc47/data/latest',\n",
    "                      'https://api.flipsidecrypto.com/api/v2/queries/de277680-5ff6-4d58-bfff-29ef114215be/data/latest',\n",
    "                      'https://api.flipsidecrypto.com/api/v2/queries/669fc9f7-8b2d-4dd2-948f-668de9eb4e8a/data/latest']\n",
    "\n",
    "\n",
    "price_data_begin,price_data_end  = \"2022-01-01\",\"2022-01-07\"\n",
    "file_name                = 'eth_usdc'\n",
    "\n",
    "swap_data                = GetPoolData.get_pool_data_flipside(address,flipside_queries,file_name,DOWNLOAD_DATA)\n",
    "price_data               = GetPoolData.get_price_data_bitquery(token_0_address,token_1_address,price_data_begin,price_data_end,BITQUERY_API_TOKEN,file_name,DOWNLOAD_DATA)\n",
    "# If price data not being downloaded, initialize the flag seperately.\n",
    "DATE_BEGIN                 = pd.to_datetime(f'{price_data_begin} 00:00PM',utc=True)\n",
    "DATE_END                   = pd.to_datetime(f'{price_data_end} 00:00PM',utc=True)\n",
    "\n",
    "\n",
    "# Data for strategy simulation. We can use aggregate_price_data to analyze the strategy at a coarser STRATEGY_FREQUENCY in minutes\n",
    "z_score_cutoff                           = 5\n",
    "window_size                              = 60*12\n",
    "STRATEGY_FREQUENCY                       = '10 min' \n",
    "simulate_data_filtered                   = ActiveStrategyFramework.aggregate_price_data(price_data,STRATEGY_FREQUENCY)\n",
    "simulate_data_filtered_roll              = simulate_data_filtered.quotePrice.rolling(window=window_size) \n",
    "simulate_data_filtered['roll_median']    = simulate_data_filtered_roll.median()\n",
    "roll_dev                                 = np.abs(simulate_data_filtered.quotePrice - simulate_data_filtered.roll_median)\n",
    "simulate_data_filtered['median_abs_dev'] = 1.4826*roll_dev.rolling(window=window_size).median() # sd(y)/mad(y, const=1) = 1.4826\n",
    "outlier_indices                          = np.abs(simulate_data_filtered.quotePrice - simulate_data_filtered.roll_median) >= z_score_cutoff*simulate_data_filtered['median_abs_dev']\n",
    "simulate_data_price                      = simulate_data_filtered[~outlier_indices]['quotePrice'][DATE_BEGIN:DATE_END]\n",
    "\n",
    "# Data for strategy estimation\n",
    "STATISTICAL_FREQUENCY        = '8H' \n",
    "statistical_data             = ActiveStrategyFramework.aggregate_price_data(price_data,STATISTICAL_FREQUENCY)\n",
    "statistical_data['z_scores'] = np.abs(scipy.stats.zscore(statistical_data['quotePrice']))\n",
    "statistical_data             = statistical_data.drop(statistical_data[abs(statistical_data.z_scores) > 3].index)\n",
    "statistical_data_filtered    = statistical_data.sort_index()\n",
    "\n",
    "# Initial Position Details\n",
    "INITIAL_TOKEN_0            = 100000\n",
    "INITIAL_TOKEN_1            = INITIAL_TOKEN_0*simulate_data_price[0]\n",
    "FEE_TIER                   = 0.003\n",
    "\n",
    "# Set decimals according to your pool\n",
    "DECIMALS_0 = 6\n",
    "DECIMALS_1 = 18\n",
    "swap_data['virtual_liquidity'] = swap_data['VIRTUAL_LIQUIDITY_ADJUSTED']*(10**((DECIMALS_1  + DECIMALS_0)/2))\n",
    "swap_data['traded_in']         = swap_data.apply(lambda x: -x['amount0'] if (x['amount0'] < 0) else -x['amount1'],axis=1).astype(float)\n",
    "swap_data['traded_out']        = swap_data.apply(lambda x:  x['amount0'] if (x['amount0'] > 0) else  x['amount1'],axis=1).astype(float)\n",
    "\n",
    "\n",
    "\n",
    "sim_performance  = []\n",
    "sim_results      = []\n",
    "\n",
    "x, y = 0.75,0.5 \n",
    "\n",
    "Reset_Strategy                   = ResetStrategy.ResetStrategy(statistical_data_filtered,x,y)\n",
    "simulated_strategy               = ActiveStrategyFramework.simulate_strategy(simulate_data_price,swap_data,Reset_Strategy,INITIAL_TOKEN_0,INITIAL_TOKEN_1,FEE_TIER,DECIMALS_0,DECIMALS_1)\n",
    "print(simulated_strategy[-1].liquidity_in_1,simulated_strategy[-1].liquidity_in_0,\"-\",INITIAL_TOKEN_0,INITIAL_TOKEN_1)\n",
    "sim_data                         = ActiveStrategyFramework.generate_simulation_series(simulated_strategy,Reset_Strategy)\n",
    "strat_result                     = ActiveStrategyFramework.analyze_strategy(sim_data)\n",
    "sim_data.columns\n",
    "strat_result['alpha_param']      = x\n",
    "strat_result['tau_param']        = y\n",
    "# strat_result['limit_param']      =\n",
    "sim_results.append(simulated_strategy)\n",
    "sim_performance.append(strat_result)"
   ]
  },
  {
   "cell_type": "code",
   "execution_count": null,
   "id": "1f2eaa11",
   "metadata": {},
   "outputs": [],
   "source": [
    "\n",
    "print(\n",
    "    simulated_strategy[-1].liquidity_in_0+simulated_strategy[-1].token_0_left_over+simulated_strategy[-1].token_0_fees_uncollected,\n",
    "    simulated_strategy[-1].liquidity_in_1+simulated_strategy[-1].token_1_left_over+simulated_strategy[-1].token_1_fees_uncollected\n",
    "    )"
   ]
  },
  {
   "cell_type": "code",
   "execution_count": null,
   "id": "6cbce51b",
   "metadata": {},
   "outputs": [],
   "source": [
    "\n",
    "#################\n",
    "#\n",
    "# Download data\n",
    "#\n",
    "################\n",
    "\n",
    "# Get Swap Data\n",
    "DOWNLOAD_DATA      = False\n",
    "address            = '0x8ad599c3a0ff1de082011efddc58f1908eb6e6d8'\n",
    "token_0_address    = '0xA0b86991c6218b36c1d19D4a2e9Eb0cE3606eB48'\n",
    "token_1_address    = '0xC02aaA39b223FE8D0A0e5C4F27eAD9083C756Cc2'\n",
    "flipside_queries   = ['https://api.flipsidecrypto.com/api/v2/queries/b8ad3087-803a-478b-9ed3-c4f3c096bc47/data/latest',\n",
    "                      'https://api.flipsidecrypto.com/api/v2/queries/de277680-5ff6-4d58-bfff-29ef114215be/data/latest',\n",
    "                      'https://api.flipsidecrypto.com/api/v2/queries/669fc9f7-8b2d-4dd2-948f-668de9eb4e8a/data/latest']\n",
    "\n",
    "# Price data for theThese must be month ends\n",
    "# [\"5-11\",\"12-18\",\"19-25\",\"26-1\",\"2-8\",\"9-15\",\"16-22\",\"23-29\",\"30-6\",\"7-13\",\"16-20\",\"21-27\",\"28-3\",\"4-10\",\"11-17\",\"18-24\",\"25-1\"]\n",
    "\n",
    "dates = [\n",
    "    [\"2022-01-01\",\"2022-01-07\"],\n",
    "    [\"2022-01-08\",\"2022-01-14\"],\n",
    "    [\"2022-01-15\",\"2022-01-21\"],\n",
    "    [\"2022-01-22\",\"2022-01-28\"],\n",
    "    [\"2022-01-29\",\n",
    "    \n",
    "    \"2022-02-04\"],\n",
    "    [\"2022-02-05\",\"2022-02-11\"],\n",
    "    [\"2022-02-12\",\"2022-02-18\"],\n",
    "    [\"2022-02-19\",\"2022-02-25\"],\n",
    "    [\"2022-02-26\",\n",
    "    \n",
    "    \"2022-03-04\"],\n",
    "    [\"2022-03-05\",\"2022-03-11\"],\n",
    "    [\"2022-03-12\",\"2022-03-18\"],\n",
    "    [\"2022-03-19\",\"2022-03-25\"],\n",
    "    [\"2022-03-26\",\n",
    "    \n",
    "    \"2022-04-01\"],\n",
    "    [\"2022-04-02\",\"2022-04-08\"],\n",
    "    [\"2022-04-09\",\"2022-04-15\"],\n",
    "    [\"2022-04-16\",\"2022-04-22\"],\n",
    "    [\"2022-04-23\",\"2022-04-29\"],\n",
    "    [\"2022-04-30\",\n",
    "    \n",
    "    \"2022-05-06\"],\n",
    "    [\"2022-05-07\",\"2022-05-13\"],\n",
    "    [\"2022-05-16\",\"2022-05-20\"],\n",
    "    [\"2022-05-21\",\"2022-05-27\"],\n",
    "    [\"2022-05-28\",\n",
    "    \n",
    "    \"2022-06-03\"],\n",
    "    [\"2022-06-04\",\"2022-06-10\"],\n",
    "    [\"2022-06-11\",\"2022-06-17\"],\n",
    "    [\"2022-06-18\",\"2022-06-24\"],\n",
    "    [\"2022-06-25\",\n",
    "    \n",
    "    \"2022-07-1\"],\n",
    "]\n",
    "\n",
    "\n",
    "for date in dates:\n",
    "    start = date[0]\n",
    "    end = date[1]\n",
    "    print(date)\n",
    "\n",
    "    price_data_begin         = start\n",
    "    price_data_end           = end\n",
    "    file_name                = 'eth_usdc'\n",
    "\n",
    "    swap_data                = GetPoolData.get_pool_data_flipside(address,flipside_queries,file_name,DOWNLOAD_DATA)\n",
    "    price_data               = GetPoolData.get_price_data_bitquery(token_0_address,token_1_address,price_data_begin,price_data_end,BITQUERY_API_TOKEN,file_name,DOWNLOAD_DATA)\n",
    "    # If price data not being downloaded, initialize the flag seperately.\n",
    "\n",
    "\n",
    "    DATE_BEGIN                 = pd.to_datetime(f'{price_data_begin} 00:00PM',utc=True)\n",
    "    DATE_END                   = pd.to_datetime(f'{price_data_end} 00:00PM',utc=True)\n",
    "\n",
    "\n",
    "    # Data for strategy simulation. We can use aggregate_price_data to analyze the strategy at a coarser STRATEGY_FREQUENCY in minutes\n",
    "    z_score_cutoff                           = 5\n",
    "    window_size                              = 60*12\n",
    "    STRATEGY_FREQUENCY                       = '10 min' \n",
    "    simulate_data_filtered                   = ActiveStrategyFramework.aggregate_price_data(price_data,STRATEGY_FREQUENCY)\n",
    "    simulate_data_filtered_roll              = simulate_data_filtered.quotePrice.rolling(window=window_size) \n",
    "    simulate_data_filtered['roll_median']    = simulate_data_filtered_roll.median()\n",
    "    roll_dev                                 = np.abs(simulate_data_filtered.quotePrice - simulate_data_filtered.roll_median)\n",
    "    simulate_data_filtered['median_abs_dev'] = 1.4826*roll_dev.rolling(window=window_size).median() # sd(y)/mad(y, const=1) = 1.4826\n",
    "    outlier_indices                          = np.abs(simulate_data_filtered.quotePrice - simulate_data_filtered.roll_median) >= z_score_cutoff*simulate_data_filtered['median_abs_dev']\n",
    "    simulate_data_price                      = simulate_data_filtered[~outlier_indices]['quotePrice'][DATE_BEGIN:DATE_END]\n",
    "\n",
    "    # Data for strategy estimation\n",
    "    STATISTICAL_FREQUENCY        = '8H' \n",
    "    statistical_data             = ActiveStrategyFramework.aggregate_price_data(price_data,STATISTICAL_FREQUENCY)\n",
    "    statistical_data['z_scores'] = np.abs(scipy.stats.zscore(statistical_data['quotePrice']))\n",
    "    statistical_data             = statistical_data.drop(statistical_data[abs(statistical_data.z_scores) > 3].index)\n",
    "    statistical_data_filtered    = statistical_data.sort_index()\n",
    "\n",
    "    # Initial Position Details\n",
    "    INITIAL_TOKEN_0            = 100000\n",
    "    INITIAL_TOKEN_1            = INITIAL_TOKEN_0*simulate_data_price[0]\n",
    "    FEE_TIER                   = 0.003\n",
    "\n",
    "    # Set decimals according to your pool\n",
    "    DECIMALS_0 = 6\n",
    "    DECIMALS_1 = 18\n",
    "    swap_data['virtual_liquidity'] = swap_data['VIRTUAL_LIQUIDITY_ADJUSTED']*(10**((DECIMALS_1  + DECIMALS_0)/2))\n",
    "    swap_data['traded_in']         = swap_data.apply(lambda x: -x['amount0'] if (x['amount0'] < 0) else -x['amount1'],axis=1).astype(float)\n",
    "    swap_data['traded_out']        = swap_data.apply(lambda x:  x['amount0'] if (x['amount0'] > 0) else  x['amount1'],axis=1).astype(float)\n",
    "\n",
    "\n",
    "\n",
    "    sim_performance  = []\n",
    "    sim_results      = []\n",
    "\n",
    "    x, y = 0.75,0.5 \n",
    "\n",
    "    Reset_Strategy                   = ResetStrategy.ResetStrategy(statistical_data_filtered,x,y)\n",
    "    simulated_strategy               = ActiveStrategyFramework.simulate_strategy(simulate_data_price,swap_data,Reset_Strategy,INITIAL_TOKEN_0,INITIAL_TOKEN_1,FEE_TIER,DECIMALS_0,DECIMALS_1)\n",
    "    sim_data                         = ActiveStrategyFramework.generate_simulation_series(simulated_strategy,Reset_Strategy)\n",
    "    strat_result                     = ActiveStrategyFramework.analyze_strategy(sim_data)\n",
    "    sim_data.columns\n",
    "    strat_result['alpha_param']      = x\n",
    "    strat_result['tau_param']        = y\n",
    "    # strat_result['limit_param']      =\n",
    "    sim_results.append(simulated_strategy)\n",
    "    sim_performance.append(strat_result)\n",
    "\n",
    "    pd.DataFrame(sim_performance).to_csv(f\"./{price_data_begin}--{price_data_end}-{STRATEGY_FREQUENCY}-{STATISTICAL_FREQUENCY}.csv\")\n",
    "\n",
    "    with open(f\"./{price_data_begin}--{price_data_end}-{STRATEGY_FREQUENCY}-{STATISTICAL_FREQUENCY}.txt\",\"w\") as file:\n",
    "        file.write(pd.DataFrame(sim_performance).to_string())\n"
   ]
  },
  {
   "cell_type": "code",
   "execution_count": null,
   "id": "5ad19a86",
   "metadata": {},
   "outputs": [],
   "source": []
  },
  {
   "cell_type": "code",
   "execution_count": null,
   "id": "0ddb4e33",
   "metadata": {},
   "outputs": [],
   "source": [
    "price_data"
   ]
  },
  {
   "cell_type": "code",
   "execution_count": null,
   "id": "7a49df70",
   "metadata": {},
   "outputs": [],
   "source": [
    "#################\n",
    "#\n",
    "# Run Reset Strategy\n",
    "#\n",
    "################\n",
    "\n",
    "# Select date ranges for strategy simulation\n",
    "# DATE_BEGIN                 = pd.to_datetime(f'2022-06-01 00:00PM',utc=True)\n",
    "# DATE_END                   = pd.to_datetime(f'2022-06-20 00:00PM',utc=True)\n",
    "\n",
    "# Strategy Parameters\n",
    "# alpha_range = [.50]\n",
    "# tau_range   = [.50]\n",
    "# limit_range = [.40]\n",
    "\n"
   ]
  },
  {
   "cell_type": "code",
   "execution_count": null,
   "id": "af8c05c9",
   "metadata": {},
   "outputs": [],
   "source": [
    "pd.DataFrame(simulate_data_filtered)\n"
   ]
  },
  {
   "cell_type": "code",
   "execution_count": null,
   "id": "96b8ddd3",
   "metadata": {},
   "outputs": [],
   "source": [
    "\n",
    "sim_performance  = []\n",
    "sim_results      = []\n",
    "# for j in list(itertools.product(alpha_range,tau_range)):\n",
    "# for x in np.linspace(0.1,1,num=19):\n",
    "# for x in np.linspace(0.5,0.6,num=3):\n",
    "for x in np.linspace(0.5,0.95,num=10):\n",
    "    # for y in [round(0.05 * i,2)  for i in range(1,20) if i*0.05 < float(x).__round__(2) ]:\n",
    "    for y in [round(0.05 * i,2)  for i in range(1,20) if i*0.05 < float(x).__round__(2) ]:\n",
    "        print(x,y)\n",
    "        Reset_Strategy                   = ResetStrategy.ResetStrategy(statistical_data_filtered,x,y)\n",
    "        simulated_strategy               = ActiveStrategyFramework.simulate_strategy(simulate_data_price,swap_data,Reset_Strategy,INITIAL_TOKEN_0,INITIAL_TOKEN_1,FEE_TIER,DECIMALS_0,DECIMALS_1)\n",
    "        sim_data                         = ActiveStrategyFramework.generate_simulation_series(simulated_strategy,Reset_Strategy)\n",
    "        strat_result                     = ActiveStrategyFramework.analyze_strategy(sim_data)\n",
    "        sim_data.columns\n",
    "        strat_result['alpha_param']      = x\n",
    "        strat_result['tau_param']        = y\n",
    "        # strat_result['limit_param']      =\n",
    "        sim_results.append(simulated_strategy)\n",
    "        sim_performance.append(strat_result)\n",
    "    print(\"\")\n",
    "    "
   ]
  },
  {
   "cell_type": "code",
   "execution_count": null,
   "id": "d38d7169",
   "metadata": {},
   "outputs": [],
   "source": [
    "\n",
    "    "
   ]
  },
  {
   "cell_type": "code",
   "execution_count": null,
   "id": "01545db1",
   "metadata": {},
   "outputs": [],
   "source": [
    "\n"
   ]
  },
  {
   "cell_type": "code",
   "execution_count": null,
   "id": "a59b2016",
   "metadata": {},
   "outputs": [],
   "source": [
    "df = pd.DataFrame(sim_performance)\n",
    "df"
   ]
  },
  {
   "cell_type": "code",
   "execution_count": null,
   "id": "c080bdb5",
   "metadata": {},
   "outputs": [],
   "source": [
    "df[\"net_return\"].max()"
   ]
  },
  {
   "cell_type": "code",
   "execution_count": null,
   "id": "d674b990",
   "metadata": {},
   "outputs": [],
   "source": [
    "df.iloc[df[\"net_return\"].argmax(),:]"
   ]
  },
  {
   "cell_type": "code",
   "execution_count": null,
   "id": "56f67cde",
   "metadata": {},
   "outputs": [],
   "source": [
    "reset = ResetStrategy.ResetStrategy(statistical_data_filtered,0.5,0.4)\n",
    "\n",
    "base_range_lower      = (1 + reset.inverse_ecdf((1 -      reset.alpha_param)/2))  * simulate_data_price[0]\n",
    "base_range_upper      = (1 + reset.inverse_ecdf( 1 - (1 - reset.alpha_param)/2))  * simulate_data_price[0]\n",
    "\n",
    "print(base_range_lower, base_range_upper)"
   ]
  },
  {
   "cell_type": "code",
   "execution_count": null,
   "id": "f875fac4",
   "metadata": {},
   "outputs": [],
   "source": [
    "import math\n",
    "\n",
    "decimal_adjustment          = 10**(18  - 6)\n",
    "tickSpacing = 60\n",
    "\n",
    "# Lower Range\n",
    "TICK_A_PRE         = int(math.log(decimal_adjustment*base_range_lower,1.0001))\n",
    "TICK_A             = int(round(TICK_A_PRE/tickSpacing)*tickSpacing)\n",
    "\n",
    "# Upper Range\n",
    "TICK_B_PRE        = int(math.log(decimal_adjustment*base_range_upper,1.0001))\n",
    "TICK_B            = int(round(TICK_B_PRE/tickSpacing)*tickSpacing)\n",
    "\n",
    "\n",
    "print(TICK_A,TICK_B)"
   ]
  },
  {
   "cell_type": "code",
   "execution_count": null,
   "id": "c1cd8c69",
   "metadata": {},
   "outputs": [],
   "source": [
    "eth_A = 1 / ((1.0001**TICK_A)/10**18 * 10**6)\n",
    "eth_B = 1 / ((1.0001**TICK_B)/10**18 * 10**6)\n",
    "\n",
    "print(eth_A,eth_B)"
   ]
  },
  {
   "cell_type": "code",
   "execution_count": null,
   "id": "8fb9a052",
   "metadata": {},
   "outputs": [],
   "source": [
    "import seaborn as sns\n",
    "# doosra\n",
    "sns.set_style(\"darkgrid\", {'axes.labelcolor': 'white'})\n",
    "sns.ecdfplot(x = 'price_return', data = statistical_data_filtered)"
   ]
  },
  {
   "cell_type": "code",
   "execution_count": null,
   "id": "c1eff912",
   "metadata": {},
   "outputs": [],
   "source": [
    "for j in list(itertools.product([1,11,111],[2])):\n",
    "    print(j[0],j[1])"
   ]
  },
  {
   "cell_type": "code",
   "execution_count": null,
   "id": "a21ebc3a",
   "metadata": {},
   "outputs": [],
   "source": [
    "for i in np.linspace(0.5,0.95,num=10):\n",
    "    print(float(i).__round__(2))"
   ]
  },
  {
   "cell_type": "code",
   "execution_count": null,
   "id": "3ed6ac54",
   "metadata": {},
   "outputs": [],
   "source": [
    "[round(0.05 * i,2)  for i in range(1,20) if i*0.05 < float(0.5).__round__(2) ]"
   ]
  },
  {
   "cell_type": "code",
   "execution_count": null,
   "id": "e3a57062",
   "metadata": {},
   "outputs": [],
   "source": []
  },
  {
   "cell_type": "code",
   "execution_count": null,
   "id": "efbf1a82",
   "metadata": {},
   "outputs": [],
   "source": [
    "import pickle\n",
    "import json\n",
    "\n"
   ]
  },
  {
   "cell_type": "code",
   "execution_count": null,
   "id": "5ec5d5c3",
   "metadata": {},
   "outputs": [],
   "source": [
    "with open('./data/eth_usdc_swap.pkl', 'rb') as input:\n",
    "    request_swap = pickle.load(input)\n",
    "\n",
    "request_swap\n",
    "\n",
    "\n",
    "with open('./swap.json', 'w') as file:\n",
    "    file.writelines(json.dumps(request_swap))"
   ]
  },
  {
   "cell_type": "code",
   "execution_count": null,
   "id": "06774913",
   "metadata": {},
   "outputs": [],
   "source": []
  },
  {
   "cell_type": "code",
   "execution_count": null,
   "id": "2e1ea010",
   "metadata": {},
   "outputs": [],
   "source": [
    "json.dumps(request_swap)"
   ]
  },
  {
   "cell_type": "code",
   "execution_count": 20,
   "id": "2d66e900",
   "metadata": {},
   "outputs": [],
   "source": [
    "token0 = 4386\n",
    "token1 = 1\n",
    "\n",
    "tick = 204578\n"
   ]
  },
  {
   "cell_type": "code",
   "execution_count": 21,
   "id": "6ddc72d7",
   "metadata": {},
   "outputs": [
    {
     "name": "stdout",
     "output_type": "stream",
     "text": [
      "0.000766064691799601 1305.3727847067978\n"
     ]
    }
   ],
   "source": [
    "token0Price = ((1.0001**tick)/10**18 * 10**6)\n",
    "token1Price = 1/token0Price\n",
    "\n",
    "print(token0Price,token1Price)\n"
   ]
  },
  {
   "cell_type": "code",
   "execution_count": 22,
   "id": "89f73ad4",
   "metadata": {},
   "outputs": [
    {
     "data": {
      "text/plain": [
       "3.3498798590183507"
      ]
     },
     "execution_count": 22,
     "metadata": {},
     "output_type": "execute_result"
    }
   ],
   "source": [
    "\n",
    "\n",
    "swapFee = 0.003*token0\n",
    "\n",
    "swapableAmounts = token0-swapFee\n",
    "\n",
    "swapedAmount = swapableAmounts*token0Price\n",
    "\n",
    "swapedAmount\n"
   ]
  },
  {
   "cell_type": "code",
   "execution_count": 14,
   "id": "a492a056",
   "metadata": {},
   "outputs": [],
   "source": [
    "def swapAmounts(cTick,oAmount,direction,percSwap = 1):\n",
    "    token0Price = ((1.0001**cTick)/10**18 * 10**6)\n",
    "    token1Price = 1/token0Price\n",
    "\n",
    "    amount = oAmount *percSwap\n",
    "\n",
    "    swapFee = 0.003*amount\n",
    "    swapableAmounts = amount-swapFee\n",
    "\n",
    "    return ((swapableAmounts*token0Price,amount,swapFee) \\\n",
    "        if direction < 0 else \\\n",
    "            (swapableAmounts*token1Price,amount,swapFee))\n"
   ]
  },
  {
   "cell_type": "code",
   "execution_count": 10,
   "id": "dcda107f",
   "metadata": {},
   "outputs": [
    {
     "data": {
      "text/plain": [
       "(3.3148918782032384, 13.158)"
      ]
     },
     "execution_count": 10,
     "metadata": {},
     "output_type": "execute_result"
    }
   ],
   "source": [
    "swapAmounts(tick,4386,-1)"
   ]
  },
  {
   "cell_type": "code",
   "execution_count": 11,
   "id": "5b5a63ad",
   "metadata": {},
   "outputs": [
    {
     "name": "stdout",
     "output_type": "stream",
     "text": [
      "0.49166666666666664 600 295\n"
     ]
    },
    {
     "ename": "NameError",
     "evalue": "name 'token1' is not defined",
     "output_type": "error",
     "traceback": [
      "\u001b[0;31m---------------------------------------------------------------------------\u001b[0m",
      "\u001b[0;31mNameError\u001b[0m                                 Traceback (most recent call last)",
      "Cell \u001b[0;32mIn [11], line 14\u001b[0m\n\u001b[1;32m     10\u001b[0m ratio \u001b[38;5;241m=\u001b[39m current\u001b[38;5;241m/\u001b[39m(width)\n\u001b[1;32m     12\u001b[0m \u001b[38;5;28mprint\u001b[39m(ratio,width,current)\n\u001b[0;32m---> 14\u001b[0m usdcs \u001b[38;5;241m=\u001b[39m (token1Price\u001b[38;5;241m*\u001b[39mtoken1)\u001b[38;5;241m+\u001b[39mtoken0\n\u001b[1;32m     16\u001b[0m \u001b[38;5;28mprint\u001b[39m(usdcs\u001b[38;5;241m*\u001b[39mratio,swapAmounts(tick,usdcs\u001b[38;5;241m-\u001b[39m(usdcs\u001b[38;5;241m*\u001b[39mratio),\u001b[38;5;241m-\u001b[39m\u001b[38;5;241m1\u001b[39m))\n",
      "\u001b[0;31mNameError\u001b[0m: name 'token1' is not defined"
     ]
    }
   ],
   "source": [
    "# 10 12 20\n",
    "\n",
    "lower = 204178\n",
    "upper = 204778\n",
    "\n",
    "\n",
    "width = upper - lower\n",
    "current = tick - (lower)\n",
    "\n",
    "ratio = current/(width)\n",
    "\n",
    "print(ratio,width,current)\n",
    "\n",
    "usdcs = (token1Price*token1)+token0\n",
    "\n",
    "print(usdcs*ratio,swapAmounts(tick,usdcs-(usdcs*ratio),-1))\n",
    "\n",
    "\n"
   ]
  },
  {
   "cell_type": "code",
   "execution_count": 4,
   "id": "1866aa52",
   "metadata": {},
   "outputs": [],
   "source": [
    "import UNI_v3_funcs\n"
   ]
  },
  {
   "cell_type": "code",
   "execution_count": 5,
   "id": "d30df50e",
   "metadata": {},
   "outputs": [
    {
     "name": "stdout",
     "output_type": "stream",
     "text": [
      "0.0007580634923931024 1319.1507176307057\n"
     ]
    }
   ],
   "source": [
    "# L = 15324049559134797569\n",
    "INITIAL_TOKEN_1            = 3\n",
    "INITIAL_TOKEN_0            = 999*INITIAL_TOKEN_1\n",
    "\n",
    "\n",
    "d0 = 6\n",
    "d1 = 18\n",
    "\n",
    "\n",
    "tick = 204473\n",
    "\n",
    "lower = 201473\n",
    "upper = 207473\n",
    "\n",
    "token0Price = ((1.0001**tick)/10**18 * 10**6)\n",
    "token1Price = 1/token0Price\n",
    "\n",
    "print(token0Price,token1Price)"
   ]
  },
  {
   "cell_type": "code",
   "execution_count": 6,
   "id": "5304c1cf",
   "metadata": {},
   "outputs": [],
   "source": [
    "L = int(UNI_v3_funcs.get_liquidity(tick,lower,upper,INITIAL_TOKEN_0,INITIAL_TOKEN_1,d0,d1))"
   ]
  },
  {
   "cell_type": "code",
   "execution_count": 16,
   "id": "43d75278",
   "metadata": {},
   "outputs": [
    {
     "name": "stdout",
     "output_type": "stream",
     "text": [
      "2996.999999999998 2.271916286702129\n",
      "[(3044.878539821669, 2.3082112598100277), (3092.75707964334, 2.3445062329179254), (3140.6356194650157, 2.3808012060258275), (3188.514159286686, 2.417096179133725), (3236.3926991083576, 2.453391152241623), (3284.271238930028, 2.489686125349521), (3332.1497787517037, 2.525981098457423), (3380.0283185733742, 2.5622760715653206), (3427.9068583950448, 2.598571044673219), (3475.7853982167157, 2.6348660177811167), (3429.203468801447, 2.5995539576861693), (3381.1808611568435, 2.5631497720212777), (3333.158253512236, 2.526745586356382), (3285.135645867633, 2.49034140069149), (3237.1130382230244, 2.4539372150265955), (3189.090430578421, 2.4175330293617034), (3141.067822933813, 2.381128843696808), (3093.04521528921, 2.3447246580319168), (3045.0226076446015, 2.308320472367021), (2996.999999999998, 2.271916286702129)]\n"
     ]
    }
   ],
   "source": [
    "import numpy as np\n",
    "\n",
    "amt0, amt1 = UNI_v3_funcs.get_amounts(tick,lower,upper,L,d0,d1)\n",
    "\n",
    "print(amt0, amt1)\n",
    "\n",
    "rec = []\n",
    "\n",
    "for i in np.linspace(0.05,1,num=20):\n",
    "\n",
    "    sAmount,amt,_ = swapAmounts(tick,INITIAL_TOKEN_1-amt1,1,i)\n",
    "    LL = int(UNI_v3_funcs.get_liquidity(tick,lower,upper,INITIAL_TOKEN_0+sAmount,INITIAL_TOKEN_1-amt,d0,d1))\n",
    "    rec.append(\n",
    "        UNI_v3_funcs.get_amounts(tick,lower,upper,LL,d0,d1)\n",
    "    )\n",
    "\n",
    "print(rec)"
   ]
  },
  {
   "cell_type": "code",
   "execution_count": 1,
   "id": "1e66e9e5",
   "metadata": {},
   "outputs": [
    {
     "name": "stdout",
     "output_type": "stream",
     "text": [
      "0.05\n",
      "0.1\n",
      "0.15\n",
      "0.2\n",
      "0.25\n",
      "0.3\n",
      "0.35\n",
      "0.4\n",
      "0.45\n",
      "0.5\n",
      "0.55\n",
      "0.6\n",
      "0.65\n",
      "0.7\n",
      "0.75\n",
      "0.8\n",
      "0.85\n",
      "0.9\n",
      "0.95\n",
      "1.0\n"
     ]
    }
   ],
   "source": [
    "\n",
    "    # print(float(i).__round__(2))"
   ]
  },
  {
   "cell_type": "code",
   "execution_count": null,
   "id": "319294d0",
   "metadata": {},
   "outputs": [],
   "source": []
  }
 ],
 "metadata": {
  "kernelspec": {
   "display_name": "Python 3",
   "language": "python",
   "name": "python3"
  },
  "language_info": {
   "codemirror_mode": {
    "name": "ipython",
    "version": 3
   },
   "file_extension": ".py",
   "mimetype": "text/x-python",
   "name": "python",
   "nbconvert_exporter": "python",
   "pygments_lexer": "ipython3",
   "version": "3.10.2"
  },
  "vscode": {
   "interpreter": {
    "hash": "76d7c06053c3456e5600312cec90888656fc0ed30c03d8425b9dac6e4fc8e014"
   }
  }
 },
 "nbformat": 4,
 "nbformat_minor": 5
}
