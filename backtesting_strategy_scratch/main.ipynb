{
 "cells": [
  {
   "cell_type": "code",
   "execution_count": 1,
   "id": "ff0501bf",
   "metadata": {},
   "outputs": [
    {
     "name": "stderr",
     "output_type": "stream",
     "text": [
      "c:\\Users\\newton\\anaconda3\\lib\\site-packages\\scipy\\__init__.py:146: UserWarning: A NumPy version >=1.16.5 and <1.23.0 is required for this version of SciPy (detected version 1.23.1\n",
      "  warnings.warn(f\"A NumPy version >={np_minversion} and <{np_maxversion}\"\n"
     ]
    }
   ],
   "source": [
    "# ========================== Imports \n",
    "\n",
    "import pandas as pd\n",
    "import numpy as np\n",
    "import GetPoolData\n",
    "import itertools\n",
    "import scipy\n",
    "from scipy import stats\n",
    "# Create config.py in this directory and enter your own Bitquery API Token\n",
    "from config import BITQUERY_API_TOKEN\n",
    "\n",
    "import ResetStrategy\n",
    "import ActiveStrategyFramework\n"
   ]
  },
  {
   "cell_type": "code",
   "execution_count": null,
   "id": "6cbce51b",
   "metadata": {},
   "outputs": [],
   "source": [
    "\n",
    "#################\n",
    "#\n",
    "# Download data\n",
    "#\n",
    "################\n",
    "\n",
    "# Get Swap Data\n",
    "DOWNLOAD_DATA      = False\n",
    "address            = '0x8ad599c3a0ff1de082011efddc58f1908eb6e6d8'\n",
    "token_0_address    = '0xA0b86991c6218b36c1d19D4a2e9Eb0cE3606eB48'\n",
    "token_1_address    = '0xC02aaA39b223FE8D0A0e5C4F27eAD9083C756Cc2'\n",
    "flipside_queries   = ['https://api.flipsidecrypto.com/api/v2/queries/b8ad3087-803a-478b-9ed3-c4f3c096bc47/data/latest',\n",
    "                      'https://api.flipsidecrypto.com/api/v2/queries/de277680-5ff6-4d58-bfff-29ef114215be/data/latest',\n",
    "                      'https://api.flipsidecrypto.com/api/v2/queries/669fc9f7-8b2d-4dd2-948f-668de9eb4e8a/data/latest']\n",
    "\n",
    "# Price data for theThese must be month ends\n",
    "# [\"26-4\",\"5-11\",\"12-18\",\"19-25\",\"26-1\",\"2-8\",\"9-15\",\"16-22\",\"23-29\",\"30-6\",\"7-13\",\"16-20\",\"21-27\",\"28-3\",\"4-10\",\"11-17\",\"18-24\",\"25-1\"]\n",
    "price_data_begin         = '2022-01-12'\n",
    "price_data_end           = '2022-02-18'\n",
    "file_name                = 'eth_usdc'\n",
    "\n",
    "swap_data                = GetPoolData.get_pool_data_flipside(address,flipside_queries,file_name,DOWNLOAD_DATA)\n",
    "price_data               = GetPoolData.get_price_data_bitquery(token_0_address,token_1_address,price_data_begin,price_data_end,BITQUERY_API_TOKEN,file_name,DOWNLOAD_DATA)\n",
    "# If price data not being downloaded, initialize the flag seperately."
   ]
  },
  {
   "cell_type": "code",
   "execution_count": null,
   "id": "0ddb4e33",
   "metadata": {},
   "outputs": [],
   "source": [
    "price_data"
   ]
  },
  {
   "cell_type": "code",
   "execution_count": null,
   "id": "7a49df70",
   "metadata": {},
   "outputs": [],
   "source": [
    "#################\n",
    "#\n",
    "# Run Reset Strategy\n",
    "#\n",
    "################\n",
    "\n",
    "# Select date ranges for strategy simulation\n",
    "# DATE_BEGIN                 = pd.to_datetime(f'2022-06-01 00:00PM',utc=True)\n",
    "# DATE_END                   = pd.to_datetime(f'2022-06-20 00:00PM',utc=True)\n",
    "DATE_BEGIN                 = pd.to_datetime(f'{price_data_begin} 00:00PM',utc=True)\n",
    "DATE_END                   = pd.to_datetime(f'{price_data_end} 00:00PM',utc=True)\n",
    "\n",
    "\n",
    "# Data for strategy simulation. We can use aggregate_price_data to analyze the strategy at a coarser STRATEGY_FREQUENCY in minutes\n",
    "z_score_cutoff                           = 5\n",
    "window_size                              = 60*12\n",
    "STRATEGY_FREQUENCY                       = '10 min' \n",
    "simulate_data_filtered                   = ActiveStrategyFramework.aggregate_price_data(price_data,STRATEGY_FREQUENCY)\n",
    "simulate_data_filtered_roll              = simulate_data_filtered.quotePrice.rolling(window=window_size) \n",
    "simulate_data_filtered['roll_median']    = simulate_data_filtered_roll.median()\n",
    "roll_dev                                 = np.abs(simulate_data_filtered.quotePrice - simulate_data_filtered.roll_median)\n",
    "simulate_data_filtered['median_abs_dev'] = 1.4826*roll_dev.rolling(window=window_size).median() # sd(y)/mad(y, const=1) = 1.4826\n",
    "outlier_indices                          = np.abs(simulate_data_filtered.quotePrice - simulate_data_filtered.roll_median) >= z_score_cutoff*simulate_data_filtered['median_abs_dev']\n",
    "simulate_data_price                      = simulate_data_filtered[~outlier_indices]['quotePrice'][DATE_BEGIN:DATE_END]\n",
    "\n",
    "# Data for strategy estimation\n",
    "STATISTICAL_FREQUENCY        = '8H' \n",
    "statistical_data             = ActiveStrategyFramework.aggregate_price_data(price_data,STATISTICAL_FREQUENCY)\n",
    "statistical_data['z_scores'] = np.abs(scipy.stats.zscore(statistical_data['quotePrice']))\n",
    "statistical_data             = statistical_data.drop(statistical_data[abs(statistical_data.z_scores) > 3].index)\n",
    "statistical_data_filtered    = statistical_data.sort_index()\n",
    "\n",
    "# Initial Position Details\n",
    "INITIAL_TOKEN_0            = 100000\n",
    "INITIAL_TOKEN_1            = INITIAL_TOKEN_0*simulate_data_price[0]\n",
    "FEE_TIER                   = 0.003\n",
    "\n",
    "# Set decimals according to your pool\n",
    "DECIMALS_0 = 6\n",
    "DECIMALS_1 = 18\n",
    "swap_data['virtual_liquidity'] = swap_data['VIRTUAL_LIQUIDITY_ADJUSTED']*(10**((DECIMALS_1  + DECIMALS_0)/2))\n",
    "swap_data['traded_in']         = swap_data.apply(lambda x: -x['amount0'] if (x['amount0'] < 0) else -x['amount1'],axis=1).astype(float)\n",
    "swap_data['traded_out']        = swap_data.apply(lambda x:  x['amount0'] if (x['amount0'] > 0) else  x['amount1'],axis=1).astype(float)\n",
    "\n",
    "# Strategy Parameters\n",
    "alpha_range = [.50]\n",
    "tau_range   = [.50]\n",
    "# limit_range = [.40]\n",
    "\n"
   ]
  },
  {
   "cell_type": "code",
   "execution_count": null,
   "id": "af8c05c9",
   "metadata": {},
   "outputs": [],
   "source": [
    "pd.DataFrame(simulate_data_filtered)\n"
   ]
  },
  {
   "cell_type": "code",
   "execution_count": null,
   "id": "96b8ddd3",
   "metadata": {},
   "outputs": [],
   "source": [
    "\n",
    "sim_performance  = []\n",
    "sim_results      = []\n",
    "# for j in list(itertools.product(alpha_range,tau_range)):\n",
    "# for x in np.linspace(0.1,1,num=19):\n",
    "# for x in np.linspace(0.5,0.6,num=3):\n",
    "for x in np.linspace(0.5,0.95,num=10):\n",
    "    # for y in [round(0.05 * i,2)  for i in range(1,20) if i*0.05 < float(x).__round__(2) ]:\n",
    "    for y in [round(0.05 * i,2)  for i in range(1,20) if i*0.05 < float(x).__round__(2) ]:\n",
    "        print(x,y)\n",
    "        Reset_Strategy                   = ResetStrategy.ResetStrategy(statistical_data_filtered,x,y)\n",
    "        simulated_strategy               = ActiveStrategyFramework.simulate_strategy(simulate_data_price,swap_data,Reset_Strategy,INITIAL_TOKEN_0,INITIAL_TOKEN_1,FEE_TIER,DECIMALS_0,DECIMALS_1)\n",
    "        sim_data                         = ActiveStrategyFramework.generate_simulation_series(simulated_strategy,Reset_Strategy)\n",
    "        strat_result                     = ActiveStrategyFramework.analyze_strategy(sim_data)\n",
    "        sim_data.columns\n",
    "        strat_result['alpha_param']      = x\n",
    "        strat_result['tau_param']        = y\n",
    "        # strat_result['limit_param']      =\n",
    "        sim_results.append(simulated_strategy)\n",
    "        sim_performance.append(strat_result)\n",
    "    print(\"\")\n",
    "    "
   ]
  },
  {
   "cell_type": "code",
   "execution_count": null,
   "id": "d38d7169",
   "metadata": {},
   "outputs": [],
   "source": [
    "\n",
    "sim_performance  = []\n",
    "sim_results      = []\n",
    "\n",
    "x, y = 0.75,0.5 \n",
    "\n",
    "Reset_Strategy                   = ResetStrategy.ResetStrategy(statistical_data_filtered,x,y)\n",
    "simulated_strategy               = ActiveStrategyFramework.simulate_strategy(simulate_data_price,swap_data,Reset_Strategy,INITIAL_TOKEN_0,INITIAL_TOKEN_1,FEE_TIER,DECIMALS_0,DECIMALS_1)\n",
    "sim_data                         = ActiveStrategyFramework.generate_simulation_series(simulated_strategy,Reset_Strategy)\n",
    "strat_result                     = ActiveStrategyFramework.analyze_strategy(sim_data)\n",
    "sim_data.columns\n",
    "strat_result['alpha_param']      = x\n",
    "strat_result['tau_param']        = y\n",
    "# strat_result['limit_param']      =\n",
    "sim_results.append(simulated_strategy)\n",
    "sim_performance.append(strat_result)\n",
    "    "
   ]
  },
  {
   "cell_type": "code",
   "execution_count": null,
   "id": "01545db1",
   "metadata": {},
   "outputs": [],
   "source": [
    "\n",
    "pd.DataFrame(sim_performance).to_csv(f\"./{price_data_begin}--{price_data_end}-{STRATEGY_FREQUENCY}-{STATISTICAL_FREQUENCY}.csv\")\n",
    "\n",
    "with open(f\"./{price_data_begin}--{price_data_end}-{STRATEGY_FREQUENCY}-{STATISTICAL_FREQUENCY}.txt\",\"w\") as file:\n",
    "    file.write(pd.DataFrame(sim_performance).to_string())"
   ]
  },
  {
   "cell_type": "code",
   "execution_count": null,
   "id": "a59b2016",
   "metadata": {},
   "outputs": [],
   "source": [
    "df = pd.DataFrame(sim_performance)\n",
    "df"
   ]
  },
  {
   "cell_type": "code",
   "execution_count": null,
   "id": "c080bdb5",
   "metadata": {},
   "outputs": [],
   "source": [
    "df[\"net_return\"].max()"
   ]
  },
  {
   "cell_type": "code",
   "execution_count": null,
   "id": "d674b990",
   "metadata": {},
   "outputs": [],
   "source": [
    "df.iloc[df[\"net_return\"].argmax(),:]"
   ]
  },
  {
   "cell_type": "code",
   "execution_count": null,
   "id": "56f67cde",
   "metadata": {},
   "outputs": [],
   "source": [
    "reset = ResetStrategy.ResetStrategy(statistical_data_filtered,0.5,0.4)\n",
    "\n",
    "base_range_lower      = (1 + reset.inverse_ecdf((1 -      reset.alpha_param)/2))  * simulate_data_price[0]\n",
    "base_range_upper      = (1 + reset.inverse_ecdf( 1 - (1 - reset.alpha_param)/2))  * simulate_data_price[0]\n",
    "\n",
    "print(base_range_lower, base_range_upper)"
   ]
  },
  {
   "cell_type": "code",
   "execution_count": null,
   "id": "f875fac4",
   "metadata": {},
   "outputs": [],
   "source": [
    "import math\n",
    "\n",
    "decimal_adjustment          = 10**(18  - 6)\n",
    "tickSpacing = 60\n",
    "\n",
    "# Lower Range\n",
    "TICK_A_PRE         = int(math.log(decimal_adjustment*base_range_lower,1.0001))\n",
    "TICK_A             = int(round(TICK_A_PRE/tickSpacing)*tickSpacing)\n",
    "\n",
    "# Upper Range\n",
    "TICK_B_PRE        = int(math.log(decimal_adjustment*base_range_upper,1.0001))\n",
    "TICK_B            = int(round(TICK_B_PRE/tickSpacing)*tickSpacing)\n",
    "\n",
    "\n",
    "print(TICK_A,TICK_B)"
   ]
  },
  {
   "cell_type": "code",
   "execution_count": null,
   "id": "c1cd8c69",
   "metadata": {},
   "outputs": [],
   "source": [
    "eth_A = 1 / ((1.0001**TICK_A)/10**18 * 10**6)\n",
    "eth_B = 1 / ((1.0001**TICK_B)/10**18 * 10**6)\n",
    "\n",
    "print(eth_A,eth_B)"
   ]
  },
  {
   "cell_type": "code",
   "execution_count": null,
   "id": "8fb9a052",
   "metadata": {},
   "outputs": [],
   "source": [
    "import seaborn as sns\n",
    "# doosra\n",
    "sns.set_style(\"darkgrid\", {'axes.labelcolor': 'white'})\n",
    "sns.ecdfplot(x = 'price_return', data = statistical_data_filtered)"
   ]
  },
  {
   "cell_type": "code",
   "execution_count": null,
   "id": "c1eff912",
   "metadata": {},
   "outputs": [],
   "source": [
    "for j in list(itertools.product([1,11,111],[2])):\n",
    "    print(j[0],j[1])"
   ]
  },
  {
   "cell_type": "code",
   "execution_count": null,
   "id": "a21ebc3a",
   "metadata": {},
   "outputs": [],
   "source": [
    "for i in np.linspace(0.5,0.95,num=10):\n",
    "    print(float(i).__round__(2))"
   ]
  },
  {
   "cell_type": "code",
   "execution_count": null,
   "id": "3ed6ac54",
   "metadata": {},
   "outputs": [],
   "source": [
    "[round(0.05 * i,2)  for i in range(1,20) if i*0.05 < float(0.5).__round__(2) ]"
   ]
  },
  {
   "cell_type": "code",
   "execution_count": null,
   "id": "e3a57062",
   "metadata": {},
   "outputs": [],
   "source": []
  },
  {
   "cell_type": "code",
   "execution_count": null,
   "id": "efbf1a82",
   "metadata": {},
   "outputs": [],
   "source": [
    "import pickle\n",
    "import json\n",
    "\n"
   ]
  },
  {
   "cell_type": "code",
   "execution_count": null,
   "id": "5ec5d5c3",
   "metadata": {},
   "outputs": [],
   "source": [
    "with open('./data/eth_usdc_swap.pkl', 'rb') as input:\n",
    "    request_swap = pickle.load(input)\n",
    "\n",
    "request_swap\n",
    "\n",
    "\n",
    "with open('./swap.json', 'w') as file:\n",
    "    file.writelines(json.dumps(request_swap))"
   ]
  },
  {
   "cell_type": "code",
   "execution_count": null,
   "id": "06774913",
   "metadata": {},
   "outputs": [],
   "source": []
  },
  {
   "cell_type": "code",
   "execution_count": null,
   "id": "2e1ea010",
   "metadata": {},
   "outputs": [],
   "source": [
    "json.dumps(request_swap)"
   ]
  },
  {
   "cell_type": "code",
   "execution_count": null,
   "id": "6ddc72d7",
   "metadata": {},
   "outputs": [],
   "source": []
  }
 ],
 "metadata": {
  "kernelspec": {
   "display_name": "base",
   "language": "python",
   "name": "python3"
  },
  "language_info": {
   "codemirror_mode": {
    "name": "ipython",
    "version": 3
   },
   "file_extension": ".py",
   "mimetype": "text/x-python",
   "name": "python",
   "nbconvert_exporter": "python",
   "pygments_lexer": "ipython3",
   "version": "3.8.8"
  },
  "vscode": {
   "interpreter": {
    "hash": "8b2af1d8a87f408d315983af360991d8b5a35058f67d776815d6c84b908389cd"
   }
  }
 },
 "nbformat": 4,
 "nbformat_minor": 5
}
