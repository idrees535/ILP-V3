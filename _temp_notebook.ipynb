{
 "cells": [
  {
   "cell_type": "code",
   "execution_count": 18,
   "metadata": {},
   "outputs": [
    {
     "name": "stdout",
     "output_type": "stream",
     "text": [
      "____________________________________ Current price: 16.04\n",
      "____________________________________ Price range: 100230010268.33269 - 309640284530.6638\n"
     ]
    }
   ],
   "source": [
    "# Constants\n",
    "q96 = 2**96\n",
    "\n",
    "# Function to convert tick to sqrtPriceX96\n",
    "def tick_to_sqrtp(t):\n",
    "    return int((1.0001 ** (t / 2)) * q96)\n",
    "\n",
    "# Function to convert sqrtPriceX96 to human-readable price\n",
    "def sqrtp_to_price(sqrtp):\n",
    "    return (sqrtp / q96) ** 2\n",
    "\n",
    "# Example slot0_data from Uniswap pool\n",
    "# slot0_data = self.pool_contact.slot0()  # Assuming this gets the current sqrtPriceX96\n",
    "# sqrtp_cur = 16.04\n",
    "\n",
    "# Calculate current price from sqrtPriceX96\n",
    "price = 16.04\n",
    "print(f\"____________________________________ Current price: {price}\")\n",
    "\n",
    "# Convert ticks to sqrtPriceX96\n",
    "tick_lower = 253320\n",
    "tick_upper = 264600\n",
    "\n",
    "sqrtp_low = tick_to_sqrtp(tick_lower)\n",
    "sqrtp_upp = tick_to_sqrtp(tick_upper)\n",
    "\n",
    "# Calculate human-readable price range from ticks\n",
    "price_low = sqrtp_to_price(sqrtp_low)\n",
    "price_upp = sqrtp_to_price(sqrtp_upp)\n",
    "\n",
    "print(f\"____________________________________ Price range: {price_low} - {price_upp}\")\n"
   ]
  },
  {
   "cell_type": "code",
   "execution_count": 8,
   "metadata": {},
   "outputs": [
    {
     "name": "stdout",
     "output_type": "stream",
     "text": [
      "Current price range: 10.023001026861229 - 30.96402845315661\n"
     ]
    }
   ],
   "source": [
    "from decimal import Decimal, getcontext\n",
    "\n",
    "# Set high precision for Decimal calculations\n",
    "getcontext().prec = 50\n",
    "q96 = Decimal(2 ** 96)\n",
    "\n",
    "def tick_to_sqrtp(tick):\n",
    "    base = Decimal(\"1.0001\")\n",
    "    exponent = Decimal(tick) / 2\n",
    "    sqrt_price = base ** exponent\n",
    "    sqrt_price_x96 = sqrt_price * q96\n",
    "    return int(sqrt_price_x96)\n",
    "\n",
    "def sqrtp_to_price(sqrtp):\n",
    "    price = (Decimal(sqrtp) / q96) ** 2\n",
    "    return float(price)  # Convert back to float for easier readability\n",
    "\n",
    "# Given ticks\n",
    "tick_lower = 253320\n",
    "tick_upper = 264600\n",
    "\n",
    "# Calculate sqrt prices\n",
    "sqrtp_low = tick_to_sqrtp(tick_lower)\n",
    "sqrtp_upp = tick_to_sqrtp(tick_upper)\n",
    "\n",
    "# Convert sqrtPriceX96 to human-readable prices\n",
    "price_low = sqrtp_to_price(sqrtp_low)\n",
    "price_upp = sqrtp_to_price(sqrtp_upp)\n",
    "\n",
    "print(f\"Current price range: {price_low/1e10} - {price_upp/1e10}\")\n",
    "\n"
   ]
  },
  {
   "cell_type": "code",
   "execution_count": 21,
   "metadata": {},
   "outputs": [
    {
     "data": {
      "text/plain": [
       "Decimal('160123312904.99999494024916412371827793142964324602')"
      ]
     },
     "execution_count": 21,
     "metadata": {},
     "output_type": "execute_result"
    }
   ],
   "source": [
    "sqrtp=31703474972183096057808672715177984\n",
    "q96 = Decimal(2 ** 96)\n",
    "def sqrtp_to_price(sqrtp):\n",
    "    return (sqrtp / q96) ** 2\n",
    "price = sqrtp_to_price(sqrtp)\n",
    "token0 = 62219\n",
    "token1 =token0 * price \n",
    "price"
   ]
  },
  {
   "cell_type": "code",
   "execution_count": 14,
   "metadata": {},
   "outputs": [
    {
     "data": {
      "text/plain": [
       "Decimal('16.070000000000002424764442400338186674217282456160')"
      ]
     },
     "execution_count": 14,
     "metadata": {},
     "output_type": "execute_result"
    }
   ],
   "source": [
    "price"
   ]
  }
 ],
 "metadata": {
  "kernelspec": {
   "display_name": "Python 3",
   "language": "python",
   "name": "python3"
  },
  "language_info": {
   "codemirror_mode": {
    "name": "ipython",
    "version": 3
   },
   "file_extension": ".py",
   "mimetype": "text/x-python",
   "name": "python",
   "nbconvert_exporter": "python",
   "pygments_lexer": "ipython3",
   "version": "3.12.2"
  }
 },
 "nbformat": 4,
 "nbformat_minor": 2
}
