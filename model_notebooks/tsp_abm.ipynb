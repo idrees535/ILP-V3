{
 "cells": [
  {
   "cell_type": "markdown",
   "metadata": {},
   "source": [
    "# Reset Pools/Tokens"
   ]
  },
  {
   "cell_type": "code",
   "execution_count": null,
   "metadata": {},
   "outputs": [],
   "source": [
    "import shutil\n",
    "import os\n",
    "import json\n",
    "\n",
    "# Define the paths\n",
    "folder_path = \"/mnt/c/Users/hijaz tr/Desktop/cadCADProject1/tokenspice/v3_core/build/deployments\"\n",
    "json_file1_path = \"/mnt/c/Users/hijaz tr/Desktop/cadCADProject1/tokenspice/model_storage/token_pool_addresses.json\"\n",
    "json_file2_path = \"/mnt/c/Users/hijaz tr/Desktop/cadCADProject1/tokenspice/model_storage/liq_positions.json\"\n",
    "\n",
    "# 1. Delete the folder and its contents\n",
    "if os.path.exists(folder_path):\n",
    "    shutil.rmtree(folder_path)\n",
    "\n",
    "# 2. Delete contents of the first JSON file\n",
    "with open(json_file1_path, 'w') as file:\n",
    "    file.write(\"{}\")\n",
    "\n",
    "# 3. Delete contents of the second JSON file and add {}\n",
    "with open(json_file2_path, 'w') as file:\n",
    "    file.write(\"{}\")\n",
    "\n",
    "\"Simulation reset operations completed successfully.\""
   ]
  },
  {
   "cell_type": "markdown",
   "metadata": {},
   "source": [
    "# Imports"
   ]
  },
  {
   "cell_type": "code",
   "execution_count": 1,
   "metadata": {},
   "outputs": [
    {
     "name": "stdout",
     "output_type": "stream",
     "text": [
      "Existing pool:WETH_USDC_3000 having pool address: 0x545C12B4504a026F9D4D8828C707F847821F4673 loaded\n",
      "Existing pool:ETH_DAI_3000 having pool address: 0x40DDd94a83854b855dD99036aC8b68186f96D12D loaded\n",
      "Existing pool:BTC_USDT_3000 having pool address: 0x9Bb9044386AA88D297F3BFCA65C9FC47f4c096bC loaded\n"
     ]
    }
   ],
   "source": [
    "import os\n",
    "os.chdir('/mnt/c/Users/hijaz tr/Desktop/cadCADProject1/Intelligent-Liquidity-Provisioning-Framework-V1')\n",
    "os.environ[\"PATH\"] += \":.\"\n",
    "\n",
    "from util.constants import GOD_ACCOUNT\n",
    "from util.base18 import toBase18, fromBase18,fromBase128,price_to_valid_tick\n",
    "from netlists.uniswapV3.netlist import SimStrategy,SimState,netlist_createLogData\n",
    "from engine.SimEngine import SimEngine\n",
    "from util.globaltokens import weth_usdc_pool,eth_dai_pool,btc_usdt_pool"
   ]
  },
  {
   "cell_type": "markdown",
   "metadata": {},
   "source": [
    "# Initialize ABM"
   ]
  },
  {
   "cell_type": "code",
   "execution_count": 2,
   "metadata": {},
   "outputs": [
    {
     "name": "stdout",
     "output_type": "stream",
     "text": [
      "mnemonic: '\u001b[0;1;36mfun door remember deal race slam fresh sustain fury toddler reason phrase\u001b[0;m'\n",
      "funded account with token0: {'Transfer': [OrderedDict([('from', '0x330997E70b83f1a562490FCaA5996314fA5a971a'), ('to', '0x082470999d87788254dD965Daca9f150c62C4E9b'), ('value', 1000000000000000019884624838656)])]}\n",
      "funded account with token1: {'Transfer': [OrderedDict([('from', '0x330997E70b83f1a562490FCaA5996314fA5a971a'), ('to', '0x082470999d87788254dD965Daca9f150c62C4E9b'), ('value', 110000000000000000498458871988224)])]}\n",
      "mnemonic: '\u001b[0;1;36mcrime quit rival divert body photo happy honey throw brick embrace fever\u001b[0;m'\n",
      "funded account with token0: {'Transfer': [OrderedDict([('from', '0x330997E70b83f1a562490FCaA5996314fA5a971a'), ('to', '0x5419d244682857704139923Df31d51eA97fC93f2'), ('value', 4999999999999999727876154935214080)])]}\n",
      "funded account with token1: {'Transfer': [OrderedDict([('from', '0x330997E70b83f1a562490FCaA5996314fA5a971a'), ('to', '0x5419d244682857704139923Df31d51eA97fC93f2'), ('value', 5500000000000000565354898883870720)])]}\n",
      "retail_lp_agent: 0x082470999d87788254dD965Daca9f150c62C4E9b\n",
      "noise_trader_agent: 0x5419d244682857704139923Df31d51eA97fC93f2\n"
     ]
    }
   ],
   "source": [
    "sim_strategy = SimStrategy()\n",
    "sim_state = SimState(ss=sim_strategy,pool=weth_usdc_pool)\n",
    "\n",
    "output_dir = \"model_outdir_csv\"\n",
    "netlist_log_func = netlist_createLogData\n",
    "\n",
    "from engine.SimEngine import SimEngine\n",
    "engine = SimEngine(sim_state, output_dir, netlist_log_func)\n",
    "\n",
    "retail_lp_agent=sim_state.agents['retail_lp']._wallet.address\n",
    "print(f'retail_lp_agent: {retail_lp_agent}')\n",
    "\n",
    "noise_trader=sim_state.agents['noise_trader']._wallet.address\n",
    "print(f'noise_trader_agent: {noise_trader}')"
   ]
  },
  {
   "cell_type": "code",
   "execution_count": null,
   "metadata": {},
   "outputs": [],
   "source": [
    "from netlists.uniswapV3.netlist import SimStrategy,SimState,netlist_createLogData\n",
    "from util.globaltokens import weth_usdc_pool,eth_dai_pool,btc_usdt_pool,fundToken1FromAbove,fundToken0FromAbove\n",
    "\n",
    "sim_strategy = SimStrategy()\n",
    "sim_state = SimState(ss=sim_strategy,pool=weth_usdc_pool)\n",
    "\n",
    "output_dir = \"model_outdir_csv\"\n",
    "netlist_log_func = netlist_createLogData\n",
    "\n",
    "from engine.SimEngine import SimEngine\n",
    "engine = SimEngine(sim_state, output_dir, netlist_log_func)\n",
    "\n",
    "retail_lp_agent=sim_state.agents['retail_lp']._wallet.address\n",
    "print(f'retail_lp_agent: {retail_lp_agent}')\n",
    "\n",
    "noise_trader=sim_state.agents['noise_trader']._wallet.address\n",
    "print(f'noise_trader_agent: {noise_trader}')\n",
    "\n",
    "engine.reset()\n",
    "engine.run()"
   ]
  },
  {
   "cell_type": "markdown",
   "metadata": {},
   "source": [
    "# Run ABM "
   ]
  },
  {
   "cell_type": "code",
   "execution_count": 3,
   "metadata": {},
   "outputs": [
    {
     "name": "stdout",
     "output_type": "stream",
     "text": [
      "{'Mint': [OrderedDict([('sender', '0x082470999d87788254dD965Daca9f150c62C4E9b'), ('owner', '0x082470999d87788254dD965Daca9f150c62C4E9b'), ('tickLower', 70620), ('tickUpper', 78780), ('amount', 1960212097852534200000), ('amount0', 5663391489910802781), ('amount1', 20718031658073452026367)])]}\n",
      "{'Transfer': [OrderedDict([('from', '0x545C12B4504a026F9D4D8828C707F847821F4673'), ('to', '0x5419d244682857704139923Df31d51eA97fC93f2'), ('value', 38243342312818086222358)])], 'Swap': [OrderedDict([('sender', '0x5419d244682857704139923Df31d51eA97fC93f2'), ('recipient', '0x5419d244682857704139923Df31d51eA97fC93f2'), ('amount0', 19189204577775071232), ('amount1', -38243342312818086222358), ('sqrtPriceX96', 3541345468473668615309150379032), ('liquidity', 1641649634808350828295000), ('tick', 76002)])]}\n",
      "{'Mint': [OrderedDict([('sender', '0x082470999d87788254dD965Daca9f150c62C4E9b'), ('owner', '0x082470999d87788254dD965Daca9f150c62C4E9b'), ('tickLower', 71040), ('tickUpper', 79980), ('amount', 1527567360624473000000), ('amount0', 6163282137560323967), ('amount1', 15002612288316057068863)])]}\n",
      "{'Transfer': [OrderedDict([('from', '0x545C12B4504a026F9D4D8828C707F847821F4673'), ('to', '0x5419d244682857704139923Df31d51eA97fC93f2'), ('value', 39064028337948990875047)])], 'Swap': [OrderedDict([('sender', '0x5419d244682857704139923Df31d51eA97fC93f2'), ('recipient', '0x5419d244682857704139923Df31d51eA97fC93f2'), ('amount0', 19621648579331407872), ('amount1', -39064028337948990875047), ('sqrtPriceX96', 3539461939915984439109021284518), ('liquidity', 1643177202168975301295000), ('tick', 75991)])]}\n",
      "{'Mint': [OrderedDict([('sender', '0x082470999d87788254dD965Daca9f150c62C4E9b'), ('owner', '0x082470999d87788254dD965Daca9f150c62C4E9b'), ('tickLower', 69900), ('tickUpper', 77820), ('amount', 339455658742876100000), ('amount0', 663756132102400286), ('amount1', 3981733279258655436410)])]}\n",
      "{'Transfer': [OrderedDict([('from', '0x545C12B4504a026F9D4D8828C707F847821F4673'), ('to', '0x5419d244682857704139923Df31d51eA97fC93f2'), ('value', 22784379754649971718)])], 'Swap': [OrderedDict([('sender', '0x5419d244682857704139923Df31d51eA97fC93f2'), ('recipient', '0x5419d244682857704139923Df31d51eA97fC93f2'), ('amount0', -22784379754649971718), ('amount1', 45637981946087156482048), ('sqrtPriceX96', 3541655386506821611545993501263), ('liquidity', 1643516657827718177395000), ('tick', 76004)])]}\n",
      "{'Burn': [OrderedDict([('owner', '0x082470999d87788254dD965Daca9f150c62C4E9b'), ('tickLower', 71040), ('tickUpper', 79980), ('amount', 1527567360624473000000), ('amount0', 6160291579730858734), ('amount1', 15008587697272792814575)])]}\n",
      "{'Transfer': [OrderedDict([('from', '0x545C12B4504a026F9D4D8828C707F847821F4673'), ('to', '0x5419d244682857704139923Df31d51eA97fC93f2'), ('value', 29957120738732948243787)])], 'Swap': [OrderedDict([('sender', '0x5419d244682857704139923Df31d51eA97fC93f2'), ('recipient', '0x5419d244682857704139923Df31d51eA97fC93f2'), ('amount0', 15042802862316161024), ('amount1', -29957120738732948243787), ('sqrtPriceX96', 3540209915496004723510475129805), ('liquidity', 1641989090467093704395000), ('tick', 75995)])]}\n"
     ]
    }
   ],
   "source": [
    "engine.reset()\n",
    "engine.run()"
   ]
  },
  {
   "cell_type": "markdown",
   "metadata": {},
   "source": [
    "# Simulate Strategy"
   ]
  },
  {
   "cell_type": "code",
   "execution_count": 4,
   "metadata": {},
   "outputs": [
    {
     "name": "stdout",
     "output_type": "stream",
     "text": [
      "{'curr_sqrtPriceX96': 3540209915496004723510475129805, 'curr_price': 1996.6358319671506, 'tick': 75995, 'feeGrowthGlobal0X128': 33475201625286324234558908545677, 'feeGrowthGlobal1X128': 28347386278340066834405323270906138, 'liquidity_raw': 1641989090467093704395000, 'blockTimestamp': 1699807691, 'tickCumulative': 19790686766, 'secondsPerLiquidityCumulativeX128': 53942091739709550865}\n",
      "{'Mint': [OrderedDict([('sender', '0x330997E70b83f1a562490FCaA5996314fA5a971a'), ('owner', '0x330997E70b83f1a562490FCaA5996314fA5a971a'), ('tickLower', 62160), ('tickUpper', 82860), ('amount', 113342627948723850000), ('amount0', 736847974473434814), ('amount1', 2528782931454694875840)])]}\n",
      "position_value: 4000.000000000771\n"
     ]
    }
   ],
   "source": [
    "print(weth_usdc_pool.get_global_state())\n",
    "\n",
    "tick_lower = price_to_valid_tick(500)\n",
    "tick_upper = price_to_valid_tick(3955)\n",
    "amount = 4000\n",
    "\n",
    "mint_tx_receipt= weth_usdc_pool.add_liquidity(GOD_ACCOUNT, tick_lower, tick_upper, amount, b'')\n",
    "\n",
    "amount0_initial = mint_tx_receipt.events['Mint']['amount0']\n",
    "amount1_initial = mint_tx_receipt.events['Mint']['amount1']\n",
    "\n",
    "global_state = weth_usdc_pool.get_global_state()\n",
    "pool_price = float(global_state['curr_price'])\n",
    "value_initial = (amount0_initial * pool_price + amount1_initial) / 1e18\n",
    "print(f'position_value: {value_initial}')"
   ]
  },
  {
   "cell_type": "markdown",
   "metadata": {},
   "source": [
    "# Modified Budget to Liquidty"
   ]
  },
  {
   "cell_type": "code",
   "execution_count": 18,
   "metadata": {},
   "outputs": [],
   "source": [
    "# Input values\n",
    "cur_price = 2000  # Current price\n",
    "price_lower = 1500  # Lower bound price\n",
    "price_upper = 5000  # Upper bound price\n",
    "budget_usd = 4000  # Total USD budget\n",
    "\n",
    "P = cur_price  # Current price\n",
    "pa =price_lower  # Lower bound price\n",
    "pb = price_upper  # Upper bound price"
   ]
  },
  {
   "cell_type": "code",
   "execution_count": 23,
   "metadata": {},
   "outputs": [
    {
     "data": {
      "text/plain": [
       "(True, 1.4657248076324985, 1068.5503735093957, 3999.9999887743925)"
      ]
     },
     "execution_count": 23,
     "metadata": {},
     "output_type": "execute_result"
    }
   ],
   "source": [
    "from scipy.optimize import minimize\n",
    "import numpy as np\n",
    "import math\n",
    "\n",
    "# Objective function to minimize (we want to spend the entire budget)\n",
    "def objective(vars):\n",
    "    x, y = vars\n",
    "    return (P * x + y - budget_usd)**2\n",
    "\n",
    "# The constraint from equation 10 (converted to the form g(x) >= 0 for the solver)\n",
    "def constraint(vars):\n",
    "    x, y = vars\n",
    "    return x * (math.sqrt(P) * math.sqrt(pb)) / (math.sqrt(pb) - math.sqrt(P)) - y / (math.sqrt(P) - math.sqrt(pa))\n",
    "\n",
    "# Initial guess (start with half the budget for each token)\n",
    "x0 = np.array([budget_usd / (2 * P), budget_usd / 2])\n",
    "\n",
    "# The bounds for x and y (cannot be negative and cannot exceed the budget)\n",
    "bounds = ((0, budget_usd / P), (0, budget_usd))\n",
    "\n",
    "# The constraints dictionary for the solver\n",
    "cons = [{'type': 'eq', 'fun': constraint}]\n",
    "\n",
    "# Perform the minimization\n",
    "solution = minimize(objective, x0, method='SLSQP', bounds=bounds, constraints=cons)\n",
    "\n",
    "# If the solution is successful, extract the amounts for x and y\n",
    "if solution.success:\n",
    "    amount_x, amount_y = solution.x\n",
    "    budget=amount_x*P + amount_y\n",
    "else:\n",
    "    amount_x, amount_y = None, None\n",
    "\n",
    "solution.success, amount_x, amount_y, budget"
   ]
  },
  {
   "cell_type": "code",
   "execution_count": 20,
   "metadata": {},
   "outputs": [
    {
     "name": "stdout",
     "output_type": "stream",
     "text": [
      "ratio: 2.7433892569823857\n"
     ]
    }
   ],
   "source": [
    "from util.base18 import price_to_sqrtp\n",
    "q96 = 2**96\n",
    "sqrtp_upp=price_to_sqrtp(pa)\n",
    "sqrtp_low=price_to_sqrtp(pb)\n",
    "sqrtp_cur=price_to_sqrtp(P)\n",
    "\n",
    "#x_to_y_ratio = (sqrtp_upp - sqrtp_cur) / (sqrtp_cur * sqrtp_upp * (sqrtp_cur - sqrtp_low)) * sqrtp_to_price(sqrtp_cur)\n",
    "#x_to_y_ratio = ((sqrtp_upp - sqrtp_cur)  / ((sqrtp_cur/q96) * (sqrtp_upp/q96) * (sqrtp_cur - sqrtp_low))) * sqrtp_to_price(sqrtp_cur)\n",
    "#x_to_y_ratio = (math.sqrt(sqrtp_upp) - math.sqrt(sqrtp_cur)) / (math.sqrt(sqrtp_cur)*math.sqrt(sqrtp_upp)*(math.sqrt(sqrtp_cur) - math.sqrt(sqrtp_low)))* sqrtp_to_price(sqrtp_cur)\n",
    "x_to_y_ratio = (math.sqrt(pb) - math.sqrt(P)) / (math.sqrt(P) * math.sqrt(pb) * (math.sqrt(P) - math.sqrt(pa))) * P\n",
    "#x_to_y_ratio = (math.sqrt(sqrtp_upp) - math.sqrt(sqrtp_cur)) / (math.sqrt(sqrtp_cur)*math.sqrt(sqrtp_upp)*(math.sqrt(sqrtp_cur) - math.sqrt(sqrtp_low)))\n",
    "        \n",
    "print(f'ratio: {x_to_y_ratio}')"
   ]
  },
  {
   "cell_type": "code",
   "execution_count": 21,
   "metadata": {},
   "outputs": [
    {
     "name": "stdout",
     "output_type": "stream",
     "text": [
      "x_to_y_ratio: 2.7433892569823857\n",
      "Budget for token0: $2931.4496234825247\n",
      "Amount of token0 to purchase: 1.4657248117412622 units\n",
      "Budget for token1: $1068.5503765174753\n",
      "Amount of token1 to purchase: 1068.5503765174753 units\n"
     ]
    }
   ],
   "source": [
    "import math\n",
    "# Constants\n",
    "q96 = 2**96\n",
    "# Functions\n",
    "def price_to_sqrtp(p):\n",
    "    \"\"\"Convert price to sqrt price.\"\"\"\n",
    "    return int(math.sqrt(p) * q96)\n",
    "\n",
    "def sqrtp_to_price(sqrtp):\n",
    "    \"\"\"Convert sqrt price to price.\"\"\"\n",
    "    return (sqrtp / q96)**2\n",
    "\n",
    "def calculate_x_to_y_ratio(P, pa, pb):\n",
    "    \"\"\"Calculate the x to y ratio from given prices.\"\"\"\n",
    "    sqrtP = math.sqrt(P)\n",
    "    sqrtpa = math.sqrt(pa)\n",
    "    sqrtpb = math.sqrt(pb)\n",
    "    return (sqrtpb - sqrtP) / (sqrtP * sqrtpb * (sqrtP - sqrtpa)) * P\n",
    "\n",
    "# Calculate the x_to_y_ratio\n",
    "x_to_y_ratio = calculate_x_to_y_ratio(cur_price, price_lower, price_upper)\n",
    "\n",
    "# Allocate budget to token0 and token1 based on the x_to_y_ratio\n",
    "# Since we are working with a stablecoin for token1, priced at $1, we can use the ratio directly\n",
    "# to split the budget accordingly.\n",
    "budget_token0 = (budget_usd * x_to_y_ratio) / (1 + x_to_y_ratio)\n",
    "budget_token1 = budget_usd - budget_token0\n",
    "\n",
    "# Calculate the amount of token0 and token1 to be purchased with the allocated budget\n",
    "# Assuming token0 is priced at cur_price and token1 is the stablecoin priced at $1\n",
    "amount_token0 = budget_token0 / cur_price\n",
    "amount_token1 = budget_token1  # Since the stablecoin is assumed to be $1 per token\n",
    "\n",
    "# Results\n",
    "print(f\"x_to_y_ratio: {x_to_y_ratio}\")\n",
    "print(f\"Budget for token0: ${budget_token0}\")\n",
    "print(f\"Amount of token0 to purchase: {amount_token0} units\")\n",
    "print(f\"Budget for token1: ${budget_token1}\")\n",
    "print(f\"Amount of token1 to purchase: {amount_token1} units\")\n"
   ]
  }
 ],
 "metadata": {
  "kernelspec": {
   "display_name": "ilp_venv",
   "language": "python",
   "name": "python3"
  },
  "language_info": {
   "codemirror_mode": {
    "name": "ipython",
    "version": 3
   },
   "file_extension": ".py",
   "mimetype": "text/x-python",
   "name": "python",
   "nbconvert_exporter": "python",
   "pygments_lexer": "ipython3",
   "version": "3.9.18"
  }
 },
 "nbformat": 4,
 "nbformat_minor": 2
}
