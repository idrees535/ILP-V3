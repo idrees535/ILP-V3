{
 "cells": [
  {
   "cell_type": "markdown",
   "metadata": {},
   "source": [
    "# Reset Pools/Tokens"
   ]
  },
  {
   "cell_type": "code",
   "execution_count": null,
   "metadata": {},
   "outputs": [],
   "source": [
    "import shutil\n",
    "import os\n",
    "import json\n",
    "\n",
    "# Define the paths\n",
    "folder_path = \"/mnt/c/Users/hijaz tr/Desktop/cadCADProject1/tokenspice/v3_core/build/deployments\"\n",
    "json_file1_path = \"/mnt/c/Users/hijaz tr/Desktop/cadCADProject1/tokenspice/model_storage/token_pool_addresses.json\"\n",
    "json_file2_path = \"/mnt/c/Users/hijaz tr/Desktop/cadCADProject1/tokenspice/model_storage/liq_positions.json\"\n",
    "\n",
    "# 1. Delete the folder and its contents\n",
    "if os.path.exists(folder_path):\n",
    "    shutil.rmtree(folder_path)\n",
    "\n",
    "# 2. Delete contents of the first JSON file\n",
    "with open(json_file1_path, 'w') as file:\n",
    "    file.write(\"{}\")\n",
    "\n",
    "# 3. Delete contents of the second JSON file and add {}\n",
    "with open(json_file2_path, 'w') as file:\n",
    "    file.write(\"{}\")\n",
    "\n",
    "\"Simulation reset operations completed successfully.\""
   ]
  },
  {
   "cell_type": "markdown",
   "metadata": {},
   "source": [
    "# Imports"
   ]
  },
  {
   "cell_type": "code",
   "execution_count": 2,
   "metadata": {},
   "outputs": [
    {
     "name": "stdout",
     "output_type": "stream",
     "text": [
      "Existing pool:WETH_USDC_3000 having pool address: 0x545C12B4504a026F9D4D8828C707F847821F4673 loaded\n",
      "Existing pool:ETH_DAI_3000 having pool address: 0x40DDd94a83854b855dD99036aC8b68186f96D12D loaded\n",
      "Existing pool:BTC_USDT_3000 having pool address: 0x9Bb9044386AA88D297F3BFCA65C9FC47f4c096bC loaded\n"
     ]
    }
   ],
   "source": [
    "import os\n",
    "os.chdir('/mnt/c/Users/hijaz tr/Desktop/cadCADProject1/tokenspice')\n",
    "os.environ[\"PATH\"] += \":.\"\n",
    "from util.constants import GOD_ACCOUNT\n",
    "from util.base18 import toBase18, fromBase18,fromBase128,price_to_valid_tick\n",
    "from netlists.uniswapV3.netlist import SimStrategy,SimState,netlist_createLogData\n",
    "from engine.SimEngine import SimEngine\n",
    "from util.globaltokens import weth_usdc_pool,eth_dai_pool,btc_usdt_pool"
   ]
  },
  {
   "cell_type": "markdown",
   "metadata": {},
   "source": [
    "# Initialize ABM"
   ]
  },
  {
   "cell_type": "code",
   "execution_count": 3,
   "metadata": {},
   "outputs": [
    {
     "name": "stdout",
     "output_type": "stream",
     "text": [
      "mnemonic: '\u001b[0;1;36mbird hood delay height husband defense valley bone walk dwarf iron blind\u001b[0;m'\n",
      "funded account with token0: {'Transfer': [OrderedDict([('from', '0x330997E70b83f1a562490FCaA5996314fA5a971a'), ('to', '0xbA602b2f0B13fa50153D3D96Fc9839eA40e4C5e6'), ('value', 1000000000000000019884624838656)])]}\n",
      "funded account with token1: {'Transfer': [OrderedDict([('from', '0x330997E70b83f1a562490FCaA5996314fA5a971a'), ('to', '0xbA602b2f0B13fa50153D3D96Fc9839eA40e4C5e6'), ('value', 110000000000000000498458871988224)])]}\n",
      "mnemonic: '\u001b[0;1;36mmother duty remember problem parade talk consider biology employ until there coil\u001b[0;m'\n",
      "funded account with token0: {'Transfer': [OrderedDict([('from', '0x330997E70b83f1a562490FCaA5996314fA5a971a'), ('to', '0x672116a98Ee7C7Bd4e0E8300Cb1d5013e895BC76'), ('value', 4999999999999999727876154935214080)])]}\n",
      "funded account with token1: {'Transfer': [OrderedDict([('from', '0x330997E70b83f1a562490FCaA5996314fA5a971a'), ('to', '0x672116a98Ee7C7Bd4e0E8300Cb1d5013e895BC76'), ('value', 5500000000000000565354898883870720)])]}\n",
      "retail_lp_agent: 0xbA602b2f0B13fa50153D3D96Fc9839eA40e4C5e6\n",
      "noise_trader_agent: 0x672116a98Ee7C7Bd4e0E8300Cb1d5013e895BC76\n"
     ]
    }
   ],
   "source": [
    "sim_strategy = SimStrategy()\n",
    "sim_state = SimState(ss=sim_strategy,pool=weth_usdc_pool)\n",
    "\n",
    "output_dir = \"model_outdir_csv\"\n",
    "netlist_log_func = netlist_createLogData\n",
    "\n",
    "from engine.SimEngine import SimEngine\n",
    "engine = SimEngine(sim_state, output_dir, netlist_log_func)\n",
    "\n",
    "retail_lp_agent=sim_state.agents['retail_lp']._wallet.address\n",
    "print(f'retail_lp_agent: {retail_lp_agent}')\n",
    "\n",
    "noise_trader=sim_state.agents['noise_trader']._wallet.address\n",
    "print(f'noise_trader_agent: {noise_trader}')"
   ]
  },
  {
   "cell_type": "markdown",
   "metadata": {},
   "source": [
    "# Run ABM "
   ]
  },
  {
   "cell_type": "code",
   "execution_count": 4,
   "metadata": {},
   "outputs": [
    {
     "name": "stdout",
     "output_type": "stream",
     "text": [
      "{'Mint': [OrderedDict([('sender', '0xbA602b2f0B13fa50153D3D96Fc9839eA40e4C5e6'), ('owner', '0xbA602b2f0B13fa50153D3D96Fc9839eA40e4C5e6'), ('tickLower', 73680), ('tickUpper', 78960), ('amount', 1772670249965573000000), ('amount0', 5417641951724966429), ('amount1', 8753858824775819486563)])]}\n",
      "{'Transfer': [OrderedDict([('from', '0x545C12B4504a026F9D4D8828C707F847821F4673'), ('to', '0x672116a98Ee7C7Bd4e0E8300Cb1d5013e895BC76'), ('value', 45768186721444447825376)])], 'Swap': [OrderedDict([('sender', '0x672116a98Ee7C7Bd4e0E8300Cb1d5013e895BC76'), ('recipient', '0x672116a98Ee7C7Bd4e0E8300Cb1d5013e895BC76'), ('amount0', 22954064992818274304), ('amount1', -45768186721444447825376), ('sqrtPriceX96', 3541844092915064973606904276478), ('liquidity', 1437355909076332155600000), ('tick', 76005)])]}\n",
      "{'Burn': [OrderedDict([('owner', '0xbA602b2f0B13fa50153D3D96Fc9839eA40e4C5e6'), ('tickLower', 73680), ('tickUpper', 78960), ('amount', 1772670249965573000000), ('amount0', 5445865941279668391), ('amount1', 8697413582171911729376)])]}\n",
      "{'Transfer': [OrderedDict([('from', '0x545C12B4504a026F9D4D8828C707F847821F4673'), ('to', '0x672116a98Ee7C7Bd4e0E8300Cb1d5013e895BC76'), ('value', 10376805607556200728)])], 'Swap': [OrderedDict([('sender', '0x672116a98Ee7C7Bd4e0E8300Cb1d5013e895BC76'), ('recipient', '0x672116a98Ee7C7Bd4e0E8300Cb1d5013e895BC76'), ('amount0', -10376805607556200728), ('amount1', 20806958189604717461504), ('sqrtPriceX96', 3542988959704553641116569589253), ('liquidity', 1435583238826366582600000), ('tick', 76011)])]}\n",
      "{'Mint': [OrderedDict([('sender', '0xbA602b2f0B13fa50153D3D96Fc9839eA40e4C5e6'), ('owner', '0xbA602b2f0B13fa50153D3D96Fc9839eA40e4C5e6'), ('tickLower', 74280), ('tickUpper', 78120), ('amount', 5335605944563874000000), ('amount0', 11936830834247711602), ('amount1', 19789092143074600203621)])]}\n",
      "{'Transfer': [OrderedDict([('from', '0x545C12B4504a026F9D4D8828C707F847821F4673'), ('to', '0x672116a98Ee7C7Bd4e0E8300Cb1d5013e895BC76'), ('value', 7605109244103478939)])], 'Swap': [OrderedDict([('sender', '0x672116a98Ee7C7Bd4e0E8300Cb1d5013e895BC76'), ('recipient', '0x672116a98Ee7C7Bd4e0E8300Cb1d5013e895BC76'), ('amount0', -7605109244103478939), ('amount1', 15257846632210071814144), ('sqrtPriceX96', 3543825387518313185038272915006), ('liquidity', 1440918844770930456600000), ('tick', 76016)])]}\n",
      "{'Mint': [OrderedDict([('sender', '0xbA602b2f0B13fa50153D3D96Fc9839eA40e4C5e6'), ('owner', '0xbA602b2f0B13fa50153D3D96Fc9839eA40e4C5e6'), ('tickLower', 72360), ('tickUpper', 78660), ('amount', 2781620418577977000000), ('amount0', 7699515635531648815), ('amount1', 20787431444529673821884)])]}\n",
      "{'Transfer': [OrderedDict([('from', '0x545C12B4504a026F9D4D8828C707F847821F4673'), ('to', '0x672116a98Ee7C7Bd4e0E8300Cb1d5013e895BC76'), ('value', 22275949859023152638)])], 'Swap': [OrderedDict([('sender', '0x672116a98Ee7C7Bd4e0E8300Cb1d5013e895BC76'), ('recipient', '0x672116a98Ee7C7Bd4e0E8300Cb1d5013e895BC76'), ('amount0', -22275949859023152638), ('amount1', 44732829906923528650752), ('sqrtPriceX96', 3546272894950107280946198966936), ('liquidity', 1443700465189508433600000), ('tick', 76030)])]}\n"
     ]
    }
   ],
   "source": [
    "engine.reset()\n",
    "engine.run()"
   ]
  },
  {
   "cell_type": "markdown",
   "metadata": {},
   "source": [
    "# Simulate Strategy"
   ]
  },
  {
   "cell_type": "code",
   "execution_count": 5,
   "metadata": {},
   "outputs": [
    {
     "name": "stdout",
     "output_type": "stream",
     "text": [
      "{'curr_sqrtPriceX96': 3546272894950107280946198966936, 'curr_price': 2003.480583174443, 'tick': 76030, 'feeGrowthGlobal0X128': 59924361464481484539065896737412, 'feeGrowthGlobal1X128': 159854230532771199066914921571832080, 'liquidity_raw': 1443700465189508433600000, 'blockTimestamp': 1699204029, 'tickCumulative': 326458953588692, 'secondsPerLiquidityCumulativeX128': 1016861199789934359548920}\n",
      "{'Mint': [OrderedDict([('sender', '0x330997E70b83f1a562490FCaA5996314fA5a971a'), ('owner', '0x330997E70b83f1a562490FCaA5996314fA5a971a'), ('tickLower', 74940), ('tickUpper', 80040), ('amount', 61491400229431280000), ('amount0', 249565682942013206), ('amount1', 146010593032454581655)])]}\n",
      "{'Transfer': [OrderedDict([('from', '0x545C12B4504a026F9D4D8828C707F847821F4673'), ('to', '0x330997E70b83f1a562490FCaA5996314fA5a971a'), ('value', 1997408402508085225553)])], 'Swap': [OrderedDict([('sender', '0x330997E70b83f1a562490FCaA5996314fA5a971a'), ('recipient', '0x330997E70b83f1a562490FCaA5996314fA5a971a'), ('amount0', 1000000000000000000), ('amount1', -1997408402508085225553), ('sqrtPriceX96', 3546163284777322934201497388016), ('liquidity', 1443761956589737864880000), ('tick', 76029)])]}\n",
      "{'curr_sqrtPriceX96': 3546163284777322934201497388016, 'curr_price': 2003.3567357066318, 'tick': 76029, 'feeGrowthGlobal0X128': 60631435851712274578634790439833, 'feeGrowthGlobal1X128': 159854230532771199066914921571832080, 'liquidity_raw': 1443761956589737864880000, 'blockTimestamp': 1699204054, 'tickCumulative': 326458955489442, 'secondsPerLiquidityCumulativeX128': 1016861205682361462790375}\n"
     ]
    },
    {
     "data": {
      "text/plain": [
       "<model_scripts.UniswapV3_Model_v2.UniV3Model at 0x7fa476fbbac0>"
      ]
     },
     "execution_count": 5,
     "metadata": {},
     "output_type": "execute_result"
    }
   ],
   "source": [
    "print(weth_usdc_pool.get_global_state())\n",
    "\n",
    "tick_lower=price_to_valid_tick(1800)\n",
    "tick_upper=price_to_valid_tick(3000)\n",
    "amount=1000\n",
    "tx_receipt= weth_usdc_pool.add_liquidity(GOD_ACCOUNT, tick_lower, tick_upper, amount, b'')\n",
    "\n",
    "weth_usdc_pool.swap_token0_for_token1(GOD_ACCOUNT, toBase18(1), data=b'')\n",
    "print(weth_usdc_pool.get_global_state())\n",
    "weth_usdc_pool"
   ]
  }
 ],
 "metadata": {
  "kernelspec": {
   "display_name": "ilp_venv",
   "language": "python",
   "name": "python3"
  },
  "language_info": {
   "codemirror_mode": {
    "name": "ipython",
    "version": 3
   },
   "file_extension": ".py",
   "mimetype": "text/x-python",
   "name": "python",
   "nbconvert_exporter": "python",
   "pygments_lexer": "ipython3",
   "version": "3.9.18"
  }
 },
 "nbformat": 4,
 "nbformat_minor": 2
}
