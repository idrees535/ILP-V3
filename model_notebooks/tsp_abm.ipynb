{
 "cells": [
  {
   "cell_type": "markdown",
   "metadata": {},
   "source": [
    "# Reset Pools/Tokens"
   ]
  },
  {
   "cell_type": "code",
   "execution_count": null,
   "metadata": {},
   "outputs": [],
   "source": [
    "import shutil\n",
    "import os\n",
    "import json\n",
    "\n",
    "# Define the paths\n",
    "folder_path = \"/mnt/c/Users/hijaz tr/Desktop/cadCADProject1/tokenspice/v3_core/build/deployments\"\n",
    "json_file1_path = \"/mnt/c/Users/hijaz tr/Desktop/cadCADProject1/tokenspice/model_storage/token_pool_addresses.json\"\n",
    "json_file2_path = \"/mnt/c/Users/hijaz tr/Desktop/cadCADProject1/tokenspice/model_storage/liq_positions.json\"\n",
    "\n",
    "# 1. Delete the folder and its contents\n",
    "if os.path.exists(folder_path):\n",
    "    shutil.rmtree(folder_path)\n",
    "\n",
    "# 2. Delete contents of the first JSON file\n",
    "with open(json_file1_path, 'w') as file:\n",
    "    file.write(\"{}\")\n",
    "\n",
    "# 3. Delete contents of the second JSON file and add {}\n",
    "with open(json_file2_path, 'w') as file:\n",
    "    file.write(\"{}\")\n",
    "\n",
    "\"Simulation reset operations completed successfully.\""
   ]
  },
  {
   "cell_type": "markdown",
   "metadata": {},
   "source": [
    "# Imports"
   ]
  },
  {
   "cell_type": "code",
   "execution_count": 1,
   "metadata": {},
   "outputs": [
    {
     "name": "stdout",
     "output_type": "stream",
     "text": [
      "Existing pool:WETH_USDC_3000 having pool address: 0x308EcDb7160fA22b9DEbc888eE2ec883cb287A70 loaded\n",
      "Existing pool:ETH_DAI_3000 having pool address: 0x44c3DcEc0df2D8959E342812A3a7A5E2cB021923 loaded\n",
      "Existing pool:BTC_USDT_3000 having pool address: 0x2fDF1414826b253b15590286499a2f92B1fcBB8f loaded\n"
     ]
    }
   ],
   "source": [
    "import os\n",
    "os.chdir('/mnt/c/Users/hijaz tr/Desktop/cadCADProject1/Intelligent-Liquidity-Provisioning-Framework-V1')\n",
    "os.environ[\"PATH\"] += \":.\"\n",
    "\n",
    "from util.constants import GOD_ACCOUNT\n",
    "from util.base18 import toBase18, fromBase18,fromBase128,price_to_valid_tick\n",
    "from netlists.uniswapV3.netlist import SimStrategy,SimState,netlist_createLogData\n",
    "from engine.SimEngine import SimEngine\n",
    "from util.globaltokens import weth_usdc_pool,eth_dai_pool,btc_usdt_pool"
   ]
  },
  {
   "cell_type": "markdown",
   "metadata": {},
   "source": [
    "# Initialize ABM"
   ]
  },
  {
   "cell_type": "code",
   "execution_count": 2,
   "metadata": {},
   "outputs": [
    {
     "name": "stdout",
     "output_type": "stream",
     "text": [
      "mnemonic: '\u001b[0;1;36mfatal cannon antique solar food december flash firm unknown when plunge ribbon\u001b[0;m'\n",
      "funded account with token0: {'Transfer': [OrderedDict([('from', '0x330997E70b83f1a562490FCaA5996314fA5a971a'), ('to', '0xC0C4f92B52841610ab9517Cf0cCe2c96e9290927'), ('value', 1000000000000000019884624838656)])]}\n",
      "funded account with token1: {'Transfer': [OrderedDict([('from', '0x330997E70b83f1a562490FCaA5996314fA5a971a'), ('to', '0xC0C4f92B52841610ab9517Cf0cCe2c96e9290927'), ('value', 110000000000000000498458871988224)])]}\n",
      "mnemonic: '\u001b[0;1;36mdeposit control copy leader text simple loop silent mosquito inhale post sweet\u001b[0;m'\n",
      "funded account with token0: {'Transfer': [OrderedDict([('from', '0x330997E70b83f1a562490FCaA5996314fA5a971a'), ('to', '0xBEb048bD4DfE4f1b5D2d1E95742000AD44112C21'), ('value', 4999999999999999727876154935214080)])]}\n",
      "funded account with token1: {'Transfer': [OrderedDict([('from', '0x330997E70b83f1a562490FCaA5996314fA5a971a'), ('to', '0xBEb048bD4DfE4f1b5D2d1E95742000AD44112C21'), ('value', 5500000000000000565354898883870720)])]}\n",
      "retail_lp_agent: 0xC0C4f92B52841610ab9517Cf0cCe2c96e9290927\n",
      "noise_trader_agent: 0xBEb048bD4DfE4f1b5D2d1E95742000AD44112C21\n"
     ]
    }
   ],
   "source": [
    "sim_strategy = SimStrategy()\n",
    "sim_state = SimState(ss=sim_strategy,pool=weth_usdc_pool)\n",
    "\n",
    "output_dir = \"model_outdir_csv\"\n",
    "netlist_log_func = netlist_createLogData\n",
    "\n",
    "from engine.SimEngine import SimEngine\n",
    "engine = SimEngine(sim_state, output_dir, netlist_log_func)\n",
    "\n",
    "retail_lp_agent=sim_state.agents['retail_lp']._wallet.address\n",
    "print(f'retail_lp_agent: {retail_lp_agent}')\n",
    "\n",
    "noise_trader=sim_state.agents['noise_trader']._wallet.address\n",
    "print(f'noise_trader_agent: {noise_trader}')"
   ]
  },
  {
   "cell_type": "markdown",
   "metadata": {},
   "source": [
    "# Run ABM "
   ]
  },
  {
   "cell_type": "code",
   "execution_count": 3,
   "metadata": {},
   "outputs": [
    {
     "name": "stdout",
     "output_type": "stream",
     "text": [
      "{'Mint': [OrderedDict([('sender', '0xC0C4f92B52841610ab9517Cf0cCe2c96e9290927'), ('owner', '0xC0C4f92B52841610ab9517Cf0cCe2c96e9290927'), ('tickLower', 72540), ('tickUpper', 80040), ('amount', 1012838520887231800000), ('amount0', 4138824234435916825), ('amount1', 7202870610311754565795)])]}\n",
      "{'Transfer': [OrderedDict([('from', '0x308EcDb7160fA22b9DEbc888eE2ec883cb287A70'), ('to', '0xBEb048bD4DfE4f1b5D2d1E95742000AD44112C21'), ('value', 23487631913000296720)])], 'Swap': [OrderedDict([('sender', '0xBEb048bD4DfE4f1b5D2d1E95742000AD44112C21'), ('recipient', '0xBEb048bD4DfE4f1b5D2d1E95742000AD44112C21'), ('amount0', -23487631913000296720), ('amount1', 47110980733969046175744), ('sqrtPriceX96', 3544095818735781479378408453514), ('liquidity', 1666799786688496279800000), ('tick', 76017)])]}\n",
      "{'Mint': [OrderedDict([('sender', '0xC0C4f92B52841610ab9517Cf0cCe2c96e9290927'), ('owner', '0xC0C4f92B52841610ab9517Cf0cCe2c96e9290927'), ('tickLower', 72240), ('tickUpper', 79740), ('amount', 2657774383300217400000), ('amount0', 10088848321617351623), ('amount1', 20463288432113255131595)])]}\n",
      "{'Transfer': [OrderedDict([('from', '0x308EcDb7160fA22b9DEbc888eE2ec883cb287A70'), ('to', '0xBEb048bD4DfE4f1b5D2d1E95742000AD44112C21'), ('value', 23596930811445500029)])], 'Swap': [OrderedDict([('sender', '0xBEb048bD4DfE4f1b5D2d1E95742000AD44112C21'), ('recipient', '0xBEb048bD4DfE4f1b5D2d1E95742000AD44112C21'), ('amount0', -23596930811445500029), ('amount1', 47390008193848174444544), ('sqrtPriceX96', 3546338079628306995753331542141), ('liquidity', 1669457561071796497200000), ('tick', 76030)])]}\n",
      "{'Burn': [OrderedDict([('owner', '0xC0C4f92B52841610ab9517Cf0cCe2c96e9290927'), ('tickLower', 72540), ('tickUpper', 80040), ('amount', 1012838520887231800000), ('amount0', 4110235911671149042), ('amount1', 7260076590111765051200)])]}\n",
      "{'Transfer': [OrderedDict([('from', '0x308EcDb7160fA22b9DEbc888eE2ec883cb287A70'), ('to', '0xBEb048bD4DfE4f1b5D2d1E95742000AD44112C21'), ('value', 16263908532938843327)])], 'Swap': [OrderedDict([('sender', '0xBEb048bD4DfE4f1b5D2d1E95742000AD44112C21'), ('recipient', '0xBEb048bD4DfE4f1b5D2d1E95742000AD44112C21'), ('amount0', -16263908532938843327), ('amount1', 32697940911044157243392), ('sqrtPriceX96', 3547886123712802616889121238488), ('liquidity', 1668444722550909265400000), ('tick', 76039)])]}\n",
      "{'Mint': [OrderedDict([('sender', '0xC0C4f92B52841610ab9517Cf0cCe2c96e9290927'), ('owner', '0xC0C4f92B52841610ab9517Cf0cCe2c96e9290927'), ('tickLower', 69480), ('tickUpper', 79200), ('amount', 1305770787200714000000), ('amount0', 4262297755157192270), ('amount1', 16349132121614249287329)])]}\n",
      "{'Transfer': [OrderedDict([('from', '0x308EcDb7160fA22b9DEbc888eE2ec883cb287A70'), ('to', '0xBEb048bD4DfE4f1b5D2d1E95742000AD44112C21'), ('value', 37292529346179054029198)])], 'Swap': [OrderedDict([('sender', '0xBEb048bD4DfE4f1b5D2d1E95742000AD44112C21'), ('recipient', '0xBEb048bD4DfE4f1b5D2d1E95742000AD44112C21'), ('amount0', 18662213891054350336), ('amount1', -37292529346179054029198), ('sqrtPriceX96', 3546116626660760865245680655775), ('liquidity', 1669750493338109979400000), ('tick', 76029)])]}\n"
     ]
    }
   ],
   "source": [
    "engine.reset()\n",
    "engine.run()"
   ]
  },
  {
   "cell_type": "markdown",
   "metadata": {},
   "source": [
    "# Simulate Strategy"
   ]
  },
  {
   "cell_type": "code",
   "execution_count": 4,
   "metadata": {},
   "outputs": [
    {
     "name": "stdout",
     "output_type": "stream",
     "text": [
      "{'curr_sqrtPriceX96': 3546116626660760865245680655775, 'curr_price': 2003.3040183162261, 'tick': 76029, 'feeGrowthGlobal0X128': 38119976096407243810389617207503, 'feeGrowthGlobal1X128': 114060628416257790060876506597645059, 'liquidity_raw': 1669750493338109979400000, 'blockTimestamp': 1699206489, 'tickCumulative': 326510256206505, 'secondsPerLiquidityCumulativeX128': 876883885624909751425569}\n",
      "{'Mint': [OrderedDict([('sender', '0x330997E70b83f1a562490FCaA5996314fA5a971a'), ('owner', '0x330997E70b83f1a562490FCaA5996314fA5a971a'), ('tickLower', 74940), ('tickUpper', 80040), ('amount', 61481905612544010000), ('amount0', 249587678869252049), ('amount1', 145866782306403769734)])]}\n",
      "{'Transfer': [OrderedDict([('from', '0x308EcDb7160fA22b9DEbc888eE2ec883cb287A70'), ('to', '0x330997E70b83f1a562490FCaA5996314fA5a971a'), ('value', 1997240732054645660287)])], 'Swap': [OrderedDict([('sender', '0x330997E70b83f1a562490FCaA5996314fA5a971a'), ('recipient', '0x330997E70b83f1a562490FCaA5996314fA5a971a'), ('amount0', 1000000000000000000), ('amount1', -1997240732054645660287), ('sqrtPriceX96', 3546021862869600343911533872376), ('liquidity', 1669811975243722523410000), ('tick', 76028)])]}\n",
      "{'curr_sqrtPriceX96': 3546021862869600343911533872376, 'curr_price': 2003.196950124721, 'tick': 76028, 'feeGrowthGlobal0X128': 38731330617693279337691533152372, 'feeGrowthGlobal1X128': 114060628416257790060876506597645059, 'liquidity_raw': 1669811975243722523410000, 'blockTimestamp': 1699206527, 'tickCumulative': 326510259095607, 'secondsPerLiquidityCumulativeX128': 876883893368943787517978}\n"
     ]
    }
   ],
   "source": [
    "print(weth_usdc_pool.get_global_state())\n",
    "\n",
    "tick_lower=price_to_valid_tick(1800)\n",
    "tick_upper=price_to_valid_tick(3000)\n",
    "amount=1000\n",
    "tx_receipt= weth_usdc_pool.add_liquidity(GOD_ACCOUNT, tick_lower, tick_upper, amount, b'')\n",
    "\n",
    "weth_usdc_pool.swap_token0_for_token1(GOD_ACCOUNT, toBase18(1), data=b'')\n",
    "print(weth_usdc_pool.get_global_state())\n"
   ]
  }
 ],
 "metadata": {
  "kernelspec": {
   "display_name": "ilp_venv",
   "language": "python",
   "name": "python3"
  },
  "language_info": {
   "codemirror_mode": {
    "name": "ipython",
    "version": 3
   },
   "file_extension": ".py",
   "mimetype": "text/x-python",
   "name": "python",
   "nbconvert_exporter": "python",
   "pygments_lexer": "ipython3",
   "version": "3.9.18"
  }
 },
 "nbformat": 4,
 "nbformat_minor": 2
}
