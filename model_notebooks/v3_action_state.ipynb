{
 "cells": [
  {
   "cell_type": "code",
   "execution_count": null,
   "metadata": {},
   "outputs": [],
   "source": [
    "self.action_space = gym.spaces.Dict({\n",
    "    'action_type': gym.spaces.Discrete(4),  # 0: Add, 1: Remove, 2: Rebalance, 3: Hold\n",
    "    'price_relative_lower': gym.spaces.Box(low=0, high=1, shape=(1,), dtype=np.float32),\n",
    "    'price_relative_upper': gym.spaces.Box(low=0, high=1, shape=(1,), dtype=np.float32),\n",
    "    'position_index': gym.spaces.Discrete(10),  # For identifying positions (assuming max 10 active positions)\n",
    "    'budget_allocation': gym.spaces.Box(low=0, high=1, shape=(1,), dtype=np.float32),  # For adding/rebalancing\n",
    "})\n",
    "\n",
    "self.observation_space = gym.spaces.Dict({\n",
    "    'scaled_curr_price': gym.spaces.Box(low=-np.inf, high=np.inf, shape=(1,), dtype=np.float32),\n",
    "    'scaled_liquidity': gym.spaces.Box(low=-np.inf, high=np.inf, shape=(1,), dtype=np.float32),\n",
    "    'scaled_feeGrowthGlobal0x128': gym.spaces.Box(low=0, high=np.inf, shape=(1,), dtype=np.float32),\n",
    "    'scaled_feeGrowthGlobal1x128': gym.spaces.Box(low=0, high=np.inf, shape=(1,), dtype=np.float32),\n",
    "    'active_positions': gym.spaces.Box(low=0, high=np.inf, shape=(10, 3), dtype=np.float32),  # 10 positions, each with (lower, upper, budget)\n",
    "    'remaining_budget': gym.spaces.Box(low=0, high=np.inf, shape=(1,), dtype=np.float32),\n",
    "})\n"
   ]
  }
 ],
 "metadata": {
  "language_info": {
   "name": "python"
  }
 },
 "nbformat": 4,
 "nbformat_minor": 2
}
