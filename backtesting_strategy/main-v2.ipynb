{
 "cells": [
  {
   "cell_type": "code",
   "execution_count": 1,
   "id": "ff0501bf",
   "metadata": {},
   "outputs": [
    {
     "name": "stderr",
     "output_type": "stream",
     "text": [
      "c:\\Users\\newton\\anaconda3\\lib\\site-packages\\scipy\\__init__.py:146: UserWarning: A NumPy version >=1.16.5 and <1.23.0 is required for this version of SciPy (detected version 1.23.1\n",
      "  warnings.warn(f\"A NumPy version >={np_minversion} and <{np_maxversion}\"\n"
     ]
    }
   ],
   "source": [
    "# ========================== Imports \n",
    "\n",
    "import pandas as pd\n",
    "import numpy as np\n",
    "import GetPoolData\n",
    "import itertools\n",
    "import scipy\n",
    "from scipy import stats\n",
    "# Create config.py in this directory and enter your own Bitquery API Token\n",
    "from config import BITQUERY_API_TOKEN\n",
    "\n",
    "import ResetStrategy\n",
    "import ActiveStrategyFramework\n",
    "from UNI_v3_funcs import *\n"
   ]
  },
  {
   "cell_type": "code",
   "execution_count": 2,
   "id": "89a1afed",
   "metadata": {},
   "outputs": [
    {
     "name": "stdout",
     "output_type": "stream",
     "text": [
      "(100000.0, 63.61764166855247)\n"
     ]
    }
   ],
   "source": [
    "\n",
    "def depostAmounts(tick,tickA,tickB,amount0,amount1,decimal0,decimal1):\n",
    "    L = get_liquidity(tick,tickA,tickB,amount0,amount1,decimal0,decimal1)\n",
    "    return get_amounts(tick,tickA,tickB,L,decimal0,decimal1)\n",
    "\n",
    "print(depostAmounts(202720,202220,203220,100000,100,6,18))"
   ]
  },
  {
   "cell_type": "code",
   "execution_count": 1,
   "id": "639ecb69",
   "metadata": {},
   "outputs": [
    {
     "name": "stdout",
     "output_type": "stream",
     "text": [
      "(736868.8918318636, 451.30009280129207)\n",
      "36482794405059325952\n"
     ]
    }
   ],
   "source": [
    "import UNI_v3_funcs\n",
    "\n",
    "print(UNI_v3_funcs.get_amounts(202340,202330,202350,36482794405059330812,6,18))\n",
    "\n",
    "print(UNI_v3_funcs.get_liquidity(202340,202330,202350,736868.8918318636,451.30009280129207,6,18))"
   ]
  },
  {
   "cell_type": "code",
   "execution_count": 1,
   "id": "fb78d9c2",
   "metadata": {},
   "outputs": [
    {
     "data": {
      "text/plain": [
       "(-2.0292319990533897e-21, 3855395259373610915619505896724399139699294208)"
      ]
     },
     "execution_count": 1,
     "metadata": {},
     "output_type": "execute_result"
    }
   ],
   "source": [
    "import UNI_v3_funcs\n",
    "\n",
    "\n",
    "UNI_v3_funcs.changedAmounts(195285,195298,4303369674465501)"
   ]
  },
  {
   "cell_type": "code",
   "execution_count": 2,
   "id": "59de10fc",
   "metadata": {},
   "outputs": [
    {
     "data": {
      "text/plain": [
       "(-736868.8918318636, 1.8048818370651614e+33)"
      ]
     },
     "execution_count": 2,
     "metadata": {},
     "output_type": "execute_result"
    }
   ],
   "source": [
    "import UNI_v3_funcs\n",
    "\n",
    "l = UNI_v3_funcs.get_liquidity(202340,202330,202350,736868.8918318636,451.30009280129207,6,18)\n",
    "\n",
    "UNI_v3_funcs.swapedAmounts(202330,202350,l,736868.8918318636,451.30009280129207,-164.694492,0.05)"
   ]
  },
  {
   "cell_type": "code",
   "execution_count": 1,
   "id": "e6fec068",
   "metadata": {},
   "outputs": [
    {
     "data": {
      "text/plain": [
       "2209"
      ]
     },
     "execution_count": 1,
     "metadata": {},
     "output_type": "execute_result"
    }
   ],
   "source": [
    "import fetcher\n",
    "\n",
    "# len(fetcher.getSwapData(\"0x88e6a0c2ddd26feeb64f039a2c41296fcb3f5640\",\"shit\",True,\"mainnet\",range(16535114,16535115)))\n",
    "len(fetcher.getSwapsData(\"0x88e6a0c2ddd26feeb64f039a2c41296fcb3f5640\",1675314851,1675336115,\"swaps-eth-usdc\",True,\"mainnet\"))"
   ]
  },
  {
   "cell_type": "code",
   "execution_count": 2,
   "id": "6cbce51b",
   "metadata": {},
   "outputs": [
    {
     "name": "stdout",
     "output_type": "stream",
     "text": [
      "(64756906.080483146, 20161.940847034886)\n",
      "(64756900.0, 20161.938953887897)\n",
      "99.9999906102939\n"
     ]
    }
   ],
   "source": [
    "import UNI_v3_funcs\n",
    "\n",
    "\n",
    "downloadData       = False\n",
    "initialAmount0     = 64756900\n",
    "initialAmount1     = 20162\n",
    "\n",
    "poolAddress        = '0x8ad599c3a0ff1de082011efddc58f1908eb6e6d8'\n",
    "decimal0           = 6\n",
    "decimal1           = 18\n",
    "tick               = 195574\n",
    "tickSpacing        = 10\n",
    "rangeWidth         = 100\n",
    "tickLower          = tick - (tickSpacing * rangeWidth)\n",
    "tickUpper          = tick + (tickSpacing * rangeWidth)\n",
    "l                  = UNI_v3_funcs.get_liquidity(tick,tickLower,tickUpper,initialAmount0,initialAmount1,decimal0,decimal1)\n",
    "L                  = 23430011881047095772\n",
    "\n",
    "print(UNI_v3_funcs.get_amounts(tick,tickLower,tickUpper,L,decimal0,decimal1))\n",
    "print(UNI_v3_funcs.get_amounts(tick,tickLower,tickUpper,l,decimal0,decimal1))\n",
    "\n",
    "print(l/L*100)\n"
   ]
  },
  {
   "cell_type": "code",
   "execution_count": 3,
   "id": "fac0acb8",
   "metadata": {},
   "outputs": [
    {
     "name": "stdout",
     "output_type": "stream",
     "text": [
      "0.0\n",
      "0.06104611210321309\n",
      "(64756900.0, 20161.938953887897)\n",
      "0\n",
      "0\n"
     ]
    }
   ],
   "source": [
    "import position\n",
    "\n",
    "\n",
    "\n",
    "p = position.Position(tick,tickLower,tickUpper,initialAmount0,initialAmount1,decimal0,decimal1)\n",
    "\n",
    "\n",
    "print(p.balance0)\n",
    "print(p.balance1)\n",
    "print(p.depositedAmounts)\n",
    "print(p.fee0)\n",
    "print(p.fee1)"
   ]
  },
  {
   "cell_type": "code",
   "execution_count": null,
   "id": "e3a656b0",
   "metadata": {},
   "outputs": [],
   "source": [
    "\n",
    "\n",
    "\n"
   ]
  },
  {
   "cell_type": "code",
   "execution_count": null,
   "id": "41cd4b71",
   "metadata": {},
   "outputs": [],
   "source": []
  },
  {
   "cell_type": "code",
   "execution_count": null,
   "id": "25aef65f",
   "metadata": {},
   "outputs": [],
   "source": []
  },
  {
   "cell_type": "code",
   "execution_count": null,
   "id": "1bfd7ed9",
   "metadata": {},
   "outputs": [],
   "source": []
  },
  {
   "cell_type": "code",
   "execution_count": null,
   "id": "45ca618d",
   "metadata": {},
   "outputs": [],
   "source": []
  },
  {
   "cell_type": "code",
   "execution_count": null,
   "id": "8ca32b6a",
   "metadata": {},
   "outputs": [],
   "source": []
  },
  {
   "cell_type": "code",
   "execution_count": null,
   "id": "6b9cfd46",
   "metadata": {},
   "outputs": [],
   "source": []
  },
  {
   "cell_type": "code",
   "execution_count": 53,
   "id": "2c4b24af",
   "metadata": {},
   "outputs": [],
   "source": [
    "def new_tick_1(Lower_Tick,L,Y,Del_Y,):\n",
    "    Tick_Base = 1.0001\n",
    "    Sqrt_Pa = Tick_Base**(Lower_Tick/2)\n",
    "    Sqrt_New_Price = (Y+Del_Y+(L*Sqrt_Pa))/(L)\n",
    "    New_Price = Sqrt_New_Price**2\n",
    "    New_Tick = log(New_Price,Tick_Base)\n",
    "    return New_Tick"
   ]
  },
  {
   "cell_type": "code",
   "execution_count": 54,
   "id": "203a219a",
   "metadata": {},
   "outputs": [],
   "source": [
    "def new_tick_0(Upper_Tick,L,X,Del_X):\n",
    "    Tick_Base = 1.0001\n",
    "    Sqrt_Pb = Tick_Base**(Upper_Tick/2)\n",
    "    Sqrt_New_Price = (L*Sqrt_Pb)/((X+Del_X)*(Sqrt_Pb)+L)\n",
    "    New_Price = Sqrt_New_Price**2\n",
    "    New_Tick = log(New_Price,Tick_Base)\n",
    "    return (New_Tick)"
   ]
  },
  {
   "cell_type": "code",
   "execution_count": 72,
   "id": "ae18a83d",
   "metadata": {},
   "outputs": [
    {
     "data": {
      "text/plain": [
       "(392270.6586638655, 263.13574457876473)"
      ]
     },
     "execution_count": 72,
     "metadata": {},
     "output_type": "execute_result"
    }
   ],
   "source": [
    "Get_reserves(20325587570620944234,203250,203240,203260,6,18)"
   ]
  },
  {
   "cell_type": "code",
   "execution_count": 73,
   "metadata": {},
   "outputs": [
    {
     "data": {
      "text/plain": [
       "1490.7539805807214"
      ]
     },
     "execution_count": 73,
     "metadata": {},
     "output_type": "execute_result"
    }
   ],
   "source": [
    "392270.6586638655/263.13574457876473"
   ]
  },
  {
   "cell_type": "code",
   "execution_count": 74,
   "id": "f28756ec",
   "metadata": {},
   "outputs": [
    {
     "data": {
      "text/plain": [
       "(1311568.95758857, 880.6826169927178)"
      ]
     },
     "execution_count": 74,
     "metadata": {},
     "output_type": "execute_result"
    }
   ],
   "source": [
    "Get_reserves(11346371058795969658,203260,203200,203320,6,18)"
   ]
  },
  {
   "cell_type": "code",
   "execution_count": 75,
   "id": "e3189b67",
   "metadata": {},
   "outputs": [
    {
     "data": {
      "text/plain": [
       "1489.264046186363"
      ]
     },
     "execution_count": 75,
     "metadata": {},
     "output_type": "execute_result"
    }
   ],
   "source": [
    "1311568.95758857/880.6826169927178"
   ]
  },
  {
   "cell_type": "code",
   "execution_count": 4,
   "id": "ba30464c",
   "metadata": {},
   "outputs": [],
   "source": []
  },
  {
   "cell_type": "code",
   "execution_count": null,
   "metadata": {},
   "outputs": [],
   "source": []
  }
 ],
 "metadata": {
  "kernelspec": {
   "display_name": "Python 3",
   "language": "python",
   "name": "python3"
  },
  "language_info": {
   "codemirror_mode": {
    "name": "ipython",
    "version": 3
   },
   "file_extension": ".py",
   "mimetype": "text/x-python",
   "name": "python",
   "nbconvert_exporter": "python",
   "pygments_lexer": "ipython3",
   "version": "3.10.2"
  },
  "vscode": {
   "interpreter": {
    "hash": "76d7c06053c3456e5600312cec90888656fc0ed30c03d8425b9dac6e4fc8e014"
   }
  }
 },
 "nbformat": 4,
 "nbformat_minor": 5
}
